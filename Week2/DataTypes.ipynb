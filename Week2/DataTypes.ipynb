{
 "cells": [
  {
   "cell_type": "markdown",
   "id": "a5b127f9-7cb5-4ca7-bed8-26acae17e0c0",
   "metadata": {
    "user_expressions": []
   },
   "source": [
    "# Data Types\n",
    "- Strings (text)\n",
    "- Integers (whole numbers)\n",
    "- Floats (decimal numbers)\n",
    "- Booleans (True/False conditions)\n",
    "- Lists [ ]\n",
    "- Dictionaries { }\n",
    "- Tuples ( )\n"
   ]
  },
  {
   "cell_type": "code",
   "execution_count": null,
   "id": "eca55fb6-efe6-4a71-baa3-5945f34ae863",
   "metadata": {
    "tags": []
   },
   "outputs": [],
   "source": [
    "#Import Libraries and Modules\n",
    "\n",
    "import re\n",
    "from collections import Counter\n",
    "\n",
    "#Define Functions\n",
    "\n",
    "def split_into_words(any_chunk_of_text):\n",
    "    lowercase_text = any_chunk_of_text.lower()\n",
    "    split_words = re.split(\"\\W+\", lowercase_text)\n",
    "    return split_words\n",
    "\n",
    "#Define Filepaths and Assign Variables\n",
    "\n",
    "filepath_of_text = \"Beyonce-Lemonade.txt\"\n",
    "number_of_desired_words = 40\n",
    "\n",
    "stopwords = ['i', 'me', 'my', 'myself', 'we', 'our', 'ours', 'ourselves', 'you', 'your', 'yours',\n",
    "'yourself', 'yourselves', 'he', 'him', 'his', 'himself', 'she', 'her', 'hers',\n",
    " 'herself', 'it', 'its', 'itself', 'they', 'them', 'their', 'theirs', 'themselves',\n",
    " 'what', 'which', 'who', 'whom', 'this', 'that', 'these', 'those', 'am', 'is', 'are',\n",
    " 'was', 'were', 'be', 'been', 'being', 'have', 'has', 'had', 'having', 'do', 'does',\n",
    " 'did', 'doing', 'a', 'an', 'the', 'and', 'but', 'if', 'or', 'because', 'as', 'until',\n",
    " 'while', 'of', 'at', 'by', 'for', 'with', 'about', 'against', 'between', 'into',\n",
    " 'through', 'during', 'before', 'after', 'above', 'below', 'to', 'from', 'up', 'down',\n",
    " 'in', 'out', 'on', 'off', 'over', 'under', 'again', 'further', 'then', 'once', 'here',\n",
    " 'there', 'when', 'where', 'why', 'how', 'all', 'any', 'both', 'each', 'few', 'more',\n",
    " 'most', 'other', 'some', 'such', 'no', 'nor', 'not', 'only', 'own', 'same', 'so',\n",
    " 'than', 'too', 'very', 's', 't', 'can', 'will', 'just', 'don', 'should', 'now', 've', 'll', 'amp']\n",
    "\n",
    "#Read in File\n",
    "\n",
    "full_text = open(filepath_of_text, encoding=\"utf-8\").read()\n",
    "\n",
    "#Manipulate and Analyze File\n",
    "\n",
    "all_the_words = split_into_words(full_text)\n",
    "meaningful_words = [word for word in all_the_words if word not in stopwords]\n",
    "meaningful_words_tally = Counter(meaningful_words)\n",
    "most_frequent_meaningful_words = meaningful_words_tally.most_common(number_of_desired_words)\n",
    "\n",
    "#Output Results\n",
    "\n",
    "most_frequent_meaningful_words"
   ]
  },
  {
   "cell_type": "markdown",
   "id": "9c36b1ea-b65e-4551-8263-aaf2f04720da",
   "metadata": {
    "user_expressions": []
   },
   "source": [
    "# Check Data Types"
   ]
  },
  {
   "cell_type": "code",
   "execution_count": null,
   "id": "abcad268-5f27-4106-8d54-40e94690d62a",
   "metadata": {
    "tags": []
   },
   "outputs": [],
   "source": [
    "type(filepath_of_text)"
   ]
  },
  {
   "cell_type": "code",
   "execution_count": null,
   "id": "21095cc5-df1c-43bb-93e8-7adcbf6aae82",
   "metadata": {
    "tags": []
   },
   "outputs": [],
   "source": [
    "type(number_of_desired_words)"
   ]
  },
  {
   "cell_type": "code",
   "execution_count": null,
   "id": "e3ee9375-97b1-46fe-acd4-0fb65756ee27",
   "metadata": {
    "tags": []
   },
   "outputs": [],
   "source": [
    "type(stopwords)"
   ]
  }
 ],
 "metadata": {
  "kernelspec": {
   "display_name": "Python 3 (ipykernel)",
   "language": "python",
   "name": "python3"
  },
  "language_info": {
   "codemirror_mode": {
    "name": "ipython",
    "version": 3
   },
   "file_extension": ".py",
   "mimetype": "text/x-python",
   "name": "python",
   "nbconvert_exporter": "python",
   "pygments_lexer": "ipython3",
   "version": "3.9.15"
  }
 },
 "nbformat": 4,
 "nbformat_minor": 5
}
