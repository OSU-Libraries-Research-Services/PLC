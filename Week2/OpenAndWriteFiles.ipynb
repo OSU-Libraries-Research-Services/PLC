{
 "cells": [
  {
   "cell_type": "markdown",
   "id": "e7476b7b-c928-43e1-b1c7-7462b3c27e2f",
   "metadata": {
    "user_expressions": []
   },
   "source": [
    "# Open a Text File\n",
    "To read a text file, you must open it first in Python. Python will open your file and return it as a file object.\n",
    "\n",
    "**Syntax:**  `open(file, mode='r', buffering=-1, encoding=None, errors=None, newline=None, closefd=True, opener=None)`\n",
    "\n",
    "- file is the path name, absolute or relative to the current working directory\n",
    "- mode is an optional string that specifies the mode in which the file is opened. The default is 'r', or open for reading in text mode. The modes are:\n",
    "\n",
    "| **Character** | **Meaning**                                                                                   |\n",
    "|:-------------:|:---------------------------------------------------------------------------------------------------:|\n",
    "| `'r'`         | open for reading (default)                                                                               |\n",
    "| `'w'`         | open for writing, truncating the file first  \n",
    "| `'x'`         | open for exclusive creation, failing if the file already exists \n",
    "| `'a'`         | open for writing, appending to the end of file if it exists     |\n",
    "| `'b'`      | binary mode          |\n",
    "| `'t'`          | text mode (default) |\n",
    "| `'+'`         | open for updating (reading and writing |\n",
    "\n",
    "- encoding is the name of the encoding used to decode or encode the file. This should only be used in text mode. \n",
    "  - `utf-8` (most common)\n",
    "  - `utf-16`\n",
    "  - `utf-32`\n",
    "  \n",
    "\n"
   ]
  },
  {
   "cell_type": "code",
   "execution_count": null,
   "id": "68404ffb-481b-455a-8359-d4488c954f3f",
   "metadata": {
    "tags": []
   },
   "outputs": [],
   "source": [
    "open('Carmen_Ohio.txt', mode='r', encoding='utf-8')"
   ]
  },
  {
   "cell_type": "markdown",
   "id": "58b7378c-8d38-47bb-bdaa-792b6211668b",
   "metadata": {
    "user_expressions": []
   },
   "source": [
    "# Read a Text File\n",
    "Use the `.read()` method to read the file object as text"
   ]
  },
  {
   "cell_type": "code",
   "execution_count": null,
   "id": "b9700b7f-06f7-4a0e-b30f-4c6f95238e97",
   "metadata": {
    "tags": []
   },
   "outputs": [],
   "source": [
    "open('Carmen_Ohio.txt', mode='r', encoding='utf-8').read()"
   ]
  },
  {
   "cell_type": "markdown",
   "id": "00ad6714-a30b-4075-8a35-c651a376d7ed",
   "metadata": {
    "user_expressions": []
   },
   "source": [
    "# Write a Text File\n",
    "If you do not specify mode, Python will default to read text files mode='r'. To write text files, set the mode to `mode='w'`"
   ]
  },
  {
   "cell_type": "code",
   "execution_count": null,
   "id": "ee3fecf6-55d3-4987-ae93-6e0b831a2a20",
   "metadata": {
    "tags": []
   },
   "outputs": [],
   "source": [
    "open('new_Carmen_Ohio.txt', mode='w', encoding='utf-8')"
   ]
  },
  {
   "cell_type": "markdown",
   "id": "fed4ec28-f5d1-45d6-a491-a1e814b914e6",
   "metadata": {
    "user_expressions": []
   },
   "source": [
    "Again, this creates an object. To add text to a file, use the `.write()` method."
   ]
  },
  {
   "cell_type": "code",
   "execution_count": null,
   "id": "94fbe585-677b-4a19-a6df-931f18c63106",
   "metadata": {
    "tags": []
   },
   "outputs": [],
   "source": [
    "open('new_Carmen_Ohio.txt', mode='w', encoding='utf-8').write(\"Let's firm thy friendship again!!!\")"
   ]
  },
  {
   "cell_type": "markdown",
   "id": "1ae86e59-ba2d-4340-bc88-e22c83f5929a",
   "metadata": {},
   "source": [
    "# Character Encoding \n",
    "Excerpt from Walsh's Introduction to Cultural Analytics & Python"
   ]
  },
  {
   "cell_type": "markdown",
   "id": "7ca76251-6952-4b78-b28b-83860eea4a95",
   "metadata": {
    "user_expressions": []
   },
   "source": [
    "Why do we need to include `encoding='utf-8'` to open our text file? Well, UTF-8 is a character encoding (a specific kind of [Unicode](https://home.unicode.org/basic-info/faq/)). We need to specify a character encoding because — *gasp!* — computers don't actually know what text is. Character encodings are systems that map characters to numbers. Each character is given a specific ID number. This way, computers can actually read and understand characters.\n",
    "\n",
    "You can check any characters' \"code point,\" or place in the Unicode universe, with the function `ord()`"
   ]
  },
  {
   "cell_type": "code",
   "execution_count": null,
   "id": "9cad702e-53a8-4ba1-b814-c327690b974f",
   "metadata": {
    "tags": []
   },
   "outputs": [],
   "source": [
    "ord('a')"
   ]
  },
  {
   "cell_type": "code",
   "execution_count": null,
   "id": "df5076cd-76ed-4442-9905-be48a274dbb4",
   "metadata": {},
   "outputs": [],
   "source": [
    "ord(\"💩\")"
   ]
  },
  {
   "cell_type": "code",
   "execution_count": null,
   "id": "b6b0f328-7938-4f54-bcab-f008e378da12",
   "metadata": {},
   "outputs": [],
   "source": [
    "ord(\"ত\")"
   ]
  },
  {
   "cell_type": "code",
   "execution_count": null,
   "id": "3fc15e7f-05da-4cb5-9961-002ea6d753f6",
   "metadata": {},
   "outputs": [],
   "source": [
    "ord(\"!\")"
   ]
  },
  {
   "cell_type": "markdown",
   "id": "9c25f5d7-b37e-4daa-853f-bceee370ba6d",
   "metadata": {
    "user_expressions": []
   },
   "source": [
    "# Adding (UTF-8) Encoding\n",
    "It's always good practice to explicitly specify UTF-8 encoding when opening files."
   ]
  },
  {
   "cell_type": "code",
   "execution_count": null,
   "id": "6a4384ed-05f9-4026-b87b-5329ea0af16c",
   "metadata": {
    "tags": []
   },
   "outputs": [],
   "source": [
    "sample_text_default = open('sample-character-encoding.txt', encoding='utf-8').read()\n",
    "print(sample_text_default)"
   ]
  },
  {
   "cell_type": "markdown",
   "id": "187cf7d6-0ef8-42df-b7c0-288001f1ff22",
   "metadata": {
    "user_expressions": []
   },
   "source": [
    "Look what happens if we read in the exact same text with a different encoding."
   ]
  },
  {
   "cell_type": "code",
   "execution_count": null,
   "id": "0dc79a0e-3e5b-4351-9461-be70837e5aa9",
   "metadata": {
    "tags": []
   },
   "outputs": [],
   "source": [
    "sample_text_iso = open('sample-character-encoding.txt', encoding='iso-8859-1').read()\n",
    "print(sample_text_iso)"
   ]
  },
  {
   "cell_type": "code",
   "execution_count": null,
   "id": "b2ad4ac0-7703-4bda-a66b-b5b4d60b6c46",
   "metadata": {
    "tags": []
   },
   "outputs": [],
   "source": [
    "sample_text_ascii = open('sample-character-encoding.txt', encoding='ascii').read()\n",
    "print(sample_text_ascii)"
   ]
  },
  {
   "cell_type": "markdown",
   "id": "2434529f-af54-4cde-a080-3afa86eb42e1",
   "metadata": {
    "user_expressions": []
   },
   "source": [
    "# Debugging Tip\n",
    "\n",
    "If you're trying to read or analyze a text file, and it looks kind of weird, it's likely an encoding error: "
   ]
  },
  {
   "cell_type": "code",
   "execution_count": null,
   "id": "ccdf11b1-1114-4fa7-a8bc-dd41beef8774",
   "metadata": {
    "tags": []
   },
   "outputs": [],
   "source": [
    "sample_text_iso = open('sample-character-encoding.txt', encoding='iso-8859-1').read()\n",
    "print(sample_text_iso)"
   ]
  },
  {
   "cell_type": "markdown",
   "id": "4f660354-adbd-40b6-8025-24456b01fb2f",
   "metadata": {
    "tags": [],
    "user_expressions": []
   },
   "source": [
    "As David C. Zentgraf writes in his useful blog post about [character encoding](http://kunststube.net/encoding/):\n",
    "    \n",
    "> If you open a document and it looks like this [see garbled stuff above], there's one and only one reason for it: Your text editor, browser, word processor or whatever else that's trying to read the document is assuming the wrong encoding. That's all. The document is not broken...there's no magic you need to perform, you simply need to select the right encoding to display the document."
   ]
  }
 ],
 "metadata": {
  "kernelspec": {
   "display_name": "Python 3 (ipykernel)",
   "language": "python",
   "name": "python3"
  },
  "language_info": {
   "codemirror_mode": {
    "name": "ipython",
    "version": 3
   },
   "file_extension": ".py",
   "mimetype": "text/x-python",
   "name": "python",
   "nbconvert_exporter": "python",
   "pygments_lexer": "ipython3",
   "version": "3.9.15"
  }
 },
 "nbformat": 4,
 "nbformat_minor": 5
}
