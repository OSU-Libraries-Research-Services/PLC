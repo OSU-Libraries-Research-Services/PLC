{
 "cells": [
  {
   "cell_type": "markdown",
   "id": "a37c017f-9394-4322-b493-19ceff540985",
   "metadata": {
    "user_expressions": []
   },
   "source": [
    "# Absolute vs Relative Paths\n",
    "By default the directory (aka folder) you are running your python script from is set as your current working directory (cwd). In week 1, we used absolute paths to navigate to our text files, which were located in the same folder as our Python scripts. \n",
    "\n",
    "`filepath_of_text = \"C:/Users/murphy.465/OneDrive - The Ohio State University/Desktop/Week1/Beyonce-Lemonade.txt\"`\n",
    "\n",
    "If we are storing the files we are working with in the same folder as our Python script, we can use a relative path to point Python a file.\n",
    "\n",
    "`filpath_of_text = \"Beyonce-Lemonade.txt`\n",
    "\n",
    "This works because Python establishes our current working directory as the reference point for relative file paths.\n",
    "\n"
   ]
  },
  {
   "cell_type": "code",
   "execution_count": null,
   "id": "d0ec150b-7f63-4fd1-84a2-84704cb8f182",
   "metadata": {
    "tags": []
   },
   "outputs": [],
   "source": [
    "import re\n",
    "from collections import Counter\n",
    "\n",
    "def split_into_words(any_chunk_of_text):\n",
    "    lowercase_text = any_chunk_of_text.lower()\n",
    "    split_words = re.split(\"\\W+\", lowercase_text)\n",
    "    return split_words\n",
    "\n",
    "filepath_of_text = \"Beyonce-Lemonade.txt\"\n",
    "number_of_desired_words = 40\n",
    "\n",
    "stopwords = ['i', 'me', 'my', 'myself', 'we', 'our', 'ours', 'ourselves', 'you', 'your', 'yours',\n",
    " 'yourself', 'yourselves', 'he', 'him', 'his', 'himself', 'she', 'her', 'hers',\n",
    " 'herself', 'it', 'its', 'itself', 'they', 'them', 'their', 'theirs', 'themselves',\n",
    " 'what', 'which', 'who', 'whom', 'this', 'that', 'these', 'those', 'am', 'is', 'are',\n",
    " 'was', 'were', 'be', 'been', 'being', 'have', 'has', 'had', 'having', 'do', 'does',\n",
    " 'did', 'doing', 'a', 'an', 'the', 'and', 'but', 'if', 'or', 'because', 'as', 'until',\n",
    " 'while', 'of', 'at', 'by', 'for', 'with', 'about', 'against', 'between', 'into',\n",
    " 'through', 'during', 'before', 'after', 'above', 'below', 'to', 'from', 'up', 'down',\n",
    " 'in', 'out', 'on', 'off', 'over', 'under', 'again', 'further', 'then', 'once', 'here',\n",
    " 'there', 'when', 'where', 'why', 'how', 'all', 'any', 'both', 'each', 'few', 'more',\n",
    " 'most', 'other', 'some', 'such', 'no', 'nor', 'not', 'only', 'own', 'same', 'so',\n",
    " 'than', 'too', 'very', 's', 't', 'can', 'will', 'just', 'don', 'should', 'now', 've', 'll', 'amp']\n",
    "\n",
    "full_text = open(filepath_of_text, encoding=\"utf-8\").read()\n",
    "\n",
    "all_the_words = split_into_words(full_text)\n",
    "meaningful_words = [word for word in all_the_words if word not in stopwords]\n",
    "meaningful_words_tally = Counter(meaningful_words)\n",
    "most_frequent_meaningful_words = meaningful_words_tally.most_common(number_of_desired_words)\n",
    "\n",
    "most_frequent_meaningful_words"
   ]
  },
  {
   "cell_type": "markdown",
   "id": "51776128-85f2-4d1d-acdc-4cd067759e89",
   "metadata": {
    "user_expressions": []
   },
   "source": [
    "## Some helpful commands for understanding/navigating file directories include:\n",
    "- `pwd` - shows the path of your working directory (aka the folder you are in right now)\n",
    "- `ls` - lists the files and folders in your current directory\n",
    "\n",
    "Try running `pwd` and `ls` in the cells below\n"
   ]
  },
  {
   "cell_type": "code",
   "execution_count": null,
   "id": "9cd8ce68-564a-4469-ba8a-9dd4ec5a8bd0",
   "metadata": {
    "tags": []
   },
   "outputs": [],
   "source": [
    "pwd"
   ]
  },
  {
   "cell_type": "code",
   "execution_count": null,
   "id": "6c9850ed-74b8-4b0b-8d62-94b56d4ffd8f",
   "metadata": {
    "tags": []
   },
   "outputs": [],
   "source": [
    "ls"
   ]
  },
  {
   "cell_type": "markdown",
   "id": "1c5c5f45-a62b-4789-beac-6335a24a2867",
   "metadata": {
    "user_expressions": []
   },
   "source": [
    "# Changing Directories\n",
    "Sometimes I want to store my Python script in one directory (aka folder) and my data files in another directory (aka folder). I can change the directory for this entire script using `cd` ..."
   ]
  },
  {
   "cell_type": "code",
   "execution_count": null,
   "id": "58b4447a-2d31-4756-88d9-e0ce9ce17adf",
   "metadata": {},
   "outputs": [],
   "source": [
    "cd"
   ]
  },
  {
   "cell_type": "markdown",
   "id": "fe4f093b-973f-4bf2-aff9-ae1982832714",
   "metadata": {
    "user_expressions": []
   },
   "source": [
    "... or change back to my original directory using `cd` with the absolute file path"
   ]
  },
  {
   "cell_type": "code",
   "execution_count": null,
   "id": "adc3a1ec-e357-428c-b2dc-427f8798f3fd",
   "metadata": {
    "tags": []
   },
   "outputs": [],
   "source": [
    "cd C:/Users/murphy.465/OneDrive - The Ohio State University/Desktop/Week2"
   ]
  },
  {
   "cell_type": "markdown",
   "id": "a08a4690-f7e7-4b60-bc6d-17ed0119bb5f",
   "metadata": {
    "user_expressions": []
   },
   "source": [
    "... or us the [OS module](https://www.geeksforgeeks.org/os-module-python-examples/) in Python to change my working directory to a specific path. I like this option because I can store my scripts in one directory and my data in another. OS is a standard Python utility module you use to interact with your operating system. The little Python program below changes the working directory to a path you specify.\n",
    "\n",
    "**Syntax:** os.chdir(path)\\\n",
    "**Parameters:** The path of the directory you are changing your working directory to"
   ]
  },
  {
   "cell_type": "code",
   "execution_count": null,
   "id": "55ded888-2658-4614-b82d-1fa0b5f4f93c",
   "metadata": {
    "tags": []
   },
   "outputs": [],
   "source": [
    "\n",
    "# Python program to change the current working directory\n",
    "  \n",
    "import os\n",
    " \n",
    "# Function to Get the current working directory\n",
    "def current_path():\n",
    "    print(\"Current working directory before\")\n",
    "    print(os.getcwd())\n",
    "    print()\n",
    " \n",
    " \n",
    "# Printing CWD before\n",
    "current_path()\n",
    " \n",
    "# Changing the CWD\n",
    "os.chdir('../Week2') #This is a relative path here for my desktop.The double dot allows me to move one level up in a parent directory.\n",
    " \n",
    "# Printing CWD after\n",
    "current_path()\n"
   ]
  },
  {
   "cell_type": "markdown",
   "id": "89384e51-43e3-48d6-ae02-b98d5f9242e9",
   "metadata": {
    "user_expressions": []
   },
   "source": [
    "I can simplify this code by just writing ..."
   ]
  },
  {
   "cell_type": "code",
   "execution_count": null,
   "id": "eb342513-cd04-4b8d-bfcd-b5658d9741d3",
   "metadata": {
    "tags": []
   },
   "outputs": [],
   "source": [
    "import os\n",
    "new_path=os.chdir('../Week1')\n",
    "print(os.getcwd())\n"
   ]
  }
 ],
 "metadata": {
  "kernelspec": {
   "display_name": "Python 3 (ipykernel)",
   "language": "python",
   "name": "python3"
  },
  "language_info": {
   "codemirror_mode": {
    "name": "ipython",
    "version": 3
   },
   "file_extension": ".py",
   "mimetype": "text/x-python",
   "name": "python",
   "nbconvert_exporter": "python",
   "pygments_lexer": "ipython3",
   "version": "3.9.15"
  }
 },
 "nbformat": 4,
 "nbformat_minor": 5
}
