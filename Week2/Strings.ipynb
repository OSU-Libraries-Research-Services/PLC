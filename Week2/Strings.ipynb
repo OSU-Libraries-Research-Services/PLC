{
 "cells": [
  {
   "cell_type": "markdown",
   "id": "404ff905-0d43-4046-b6eb-ce8a3108fe12",
   "metadata": {
    "user_expressions": []
   },
   "source": [
    "# Strings\n",
    "Strings represent characters or textual data in Python. This means a string can contain a number, because the number represents a character. Strings are placed between either single `' '` or double `\" \"` quotation marks.\n",
    "\n",
    "`'this is a string'`\\\n",
    "`\"this is also a string\"`\n",
    "\n",
    "The initial and the closing quote must match.\n",
    "\n",
    "**Consider:**\\\n",
    "`\"The Readers' Advisory Guide to Horror Fiction\"`\\\n",
    "`'\"Did you take the trash out?\" she asked.'`\n",
    "\n",
    "You can also escape any character in Python by placing a backsplash `\\` before it. This tells Python to ignore the character. \n",
    "\n",
    "`'The Readers\\' Advisory Guide to Horror Fiction'`\n",
    "\n",
    "We can assign a string to a variable ...\n"
   ]
  },
  {
   "cell_type": "code",
   "execution_count": null,
   "id": "798ed411-3339-4628-815b-b40b04dfa238",
   "metadata": {
    "tags": []
   },
   "outputs": [],
   "source": [
    "banned_book = \"Gender Queer: A Memoir\""
   ]
  },
  {
   "cell_type": "markdown",
   "id": "92696281-c3b8-4c91-9aa8-96c909d30ea7",
   "metadata": {
    "user_expressions": []
   },
   "source": [
    "# Slicing or Extracting Parts of a String\n",
    "Python is a zero indexed language. What does this mean? The first position in any Python sequence is always indexed at zero `0`\n",
    "\n",
    "If I want to isolate the first letter of a string, the **syntax** is:\n",
    "\n",
    "`string[0]`"
   ]
  },
  {
   "cell_type": "code",
   "execution_count": null,
   "id": "f4cae9ed-0a9e-4f3b-a9db-43d21f492676",
   "metadata": {
    "tags": []
   },
   "outputs": [],
   "source": [
    "banned_book[0]"
   ]
  },
  {
   "cell_type": "markdown",
   "id": "024ad78c-1d41-4cf6-8d1b-2e8748fdd5c4",
   "metadata": {
    "user_expressions": []
   },
   "source": [
    "## Indexing Range\n",
    "If I want return a range of characters, the syntax is:\n",
    "\n",
    "`string[start index:end index]` \n",
    "\n",
    "The end index tells Python where to stop, but is not returned as part of the string. If I want to slice the word `Gender` from my string, I would write ..."
   ]
  },
  {
   "cell_type": "code",
   "execution_count": null,
   "id": "67957076-fda5-46e1-b340-931fc71e3011",
   "metadata": {
    "tags": []
   },
   "outputs": [],
   "source": [
    "banned_book[0:6]"
   ]
  },
  {
   "cell_type": "markdown",
   "id": "f5d0e69a-3413-4d49-a21d-848998bbf8c7",
   "metadata": {
    "user_expressions": []
   },
   "source": [
    "If I do not include the start index, Python will automatically start the range at the `0` index position."
   ]
  },
  {
   "cell_type": "code",
   "execution_count": null,
   "id": "41fd78a4-5c65-402c-9664-2e2fc9040c17",
   "metadata": {
    "tags": []
   },
   "outputs": [],
   "source": [
    "banned_book[:6]"
   ]
  },
  {
   "cell_type": "markdown",
   "id": "593fd48e-24f2-44a4-afd8-fe06dc95927c",
   "metadata": {
    "user_expressions": []
   },
   "source": [
    "Conversely, if I do not include an end index, Python will return every character after the start position."
   ]
  },
  {
   "cell_type": "code",
   "execution_count": null,
   "id": "88bb2678-7838-4308-b784-e4fa279d2f0f",
   "metadata": {
    "tags": []
   },
   "outputs": [],
   "source": [
    "banned_book[6:]"
   ]
  },
  {
   "cell_type": "markdown",
   "id": "35743439-56f8-4ce4-bdda-b0d3093dc3ba",
   "metadata": {
    "user_expressions": []
   },
   "source": [
    "## Negative Indexing\n",
    "If I have an address and I need to isolate the zip code, I can use negative indexing to tell Python to return characters from the right side of the string."
   ]
  },
  {
   "cell_type": "code",
   "execution_count": null,
   "id": "98aa9ab1-24c3-43a7-b82e-9f6a0e37edde",
   "metadata": {
    "tags": []
   },
   "outputs": [],
   "source": [
    "library = \"Thompson Library, 1858 Neil Avenue Mall, Columbus, OH 43085\"\n",
    "zipcode = library[-5:]\n",
    "\n",
    "zipcode"
   ]
  },
  {
   "cell_type": "markdown",
   "id": "4290bb65-6582-4894-826d-fa81040e93d4",
   "metadata": {
    "user_expressions": []
   },
   "source": [
    "## Steps\n",
    "I want to 'step' through a string to extract every nth character, the syntax is:\n",
    "\n",
    "`string[start index:end index:step]`"
   ]
  },
  {
   "cell_type": "code",
   "execution_count": null,
   "id": "cefc4997-13ab-478c-8d37-1b7bc6313549",
   "metadata": {
    "tags": []
   },
   "outputs": [],
   "source": [
    "library[0::2]"
   ]
  },
  {
   "cell_type": "markdown",
   "id": "7cb8b4c9-bb4c-4e70-92e6-aa9e302a55ac",
   "metadata": {
    "user_expressions": []
   },
   "source": [
    "## Practice"
   ]
  },
  {
   "cell_type": "code",
   "execution_count": null,
   "id": "77669215-b439-442a-9ae6-b75ff70563b0",
   "metadata": {
    "tags": []
   },
   "outputs": [],
   "source": [
    "Carmen_Ohio=open(\"Carmen_Ohio.txt\", encoding=\"utf-8\").read()"
   ]
  },
  {
   "cell_type": "code",
   "execution_count": null,
   "id": "4c6944fc-ee85-4e89-8bf2-dfbcb9522022",
   "metadata": {
    "tags": []
   },
   "outputs": [],
   "source": [
    "print(Carmen_Ohio)"
   ]
  },
  {
   "cell_type": "markdown",
   "id": "91513824-0632-46ac-af0d-23cfafbe7f64",
   "metadata": {
    "user_expressions": []
   },
   "source": [
    "### 1. Find the 1st 250 characters"
   ]
  },
  {
   "cell_type": "code",
   "execution_count": null,
   "id": "42f56c1c-ed28-498a-94d7-4903f7bfc019",
   "metadata": {},
   "outputs": [],
   "source": [
    "# your code here"
   ]
  },
  {
   "cell_type": "markdown",
   "id": "5a465307-a7c2-4250-acd4-39724d98d5f2",
   "metadata": {
    "user_expressions": []
   },
   "source": [
    "### 2. Find the last 250 characters"
   ]
  },
  {
   "cell_type": "code",
   "execution_count": null,
   "id": "cc8eae20-f581-44ff-86a2-a5941fe34abc",
   "metadata": {},
   "outputs": [],
   "source": [
    "# your code here"
   ]
  },
  {
   "cell_type": "markdown",
   "id": "33d53920-18ca-41c9-b3ba-78db050dfae8",
   "metadata": {
    "user_expressions": []
   },
   "source": [
    "### 3. Locate the text between character 250 and 500."
   ]
  },
  {
   "cell_type": "code",
   "execution_count": null,
   "id": "b4aac70c-4b74-44be-a5d3-d170322f48c6",
   "metadata": {},
   "outputs": [],
   "source": [
    "# your code here"
   ]
  },
  {
   "cell_type": "markdown",
   "id": "7f60e7b8-9306-481f-b067-51daa8023e11",
   "metadata": {
    "user_expressions": []
   },
   "source": [
    "# String Methods\n",
    "| **String Method** | **Explanation**                                                                                   |\n",
    "|:-------------:|:---------------------------------------------------------------------------------------------------:|\n",
    "| `string.lower()`         | makes the string lowercase                                                                                |\n",
    "| `string.upper()`         | makes the string uppercase  \n",
    "| `string.title()`         | makes the string titlecase \n",
    "| `string.strip()`         | removes lead and trailing white spaces     |\n",
    "| `string.replace('old string', 'new string')`      | replaces `old string` with `new string`          |\n",
    "| `string.split('delim')`          | returns a list of substrings separated by the given delimiter |\n",
    "| `string.join(list)`         | opposite of split(), joins the elements in the given list together using the string                                                                        |\n",
    "| `string.startswith('some string')`       | tests whether string begins with `some string` |                                                       |\n",
    "| `string.endswith('some string')`       |  tests whether string ends with `some string`   |\n",
    "| `string.isspace()`       |  tests whether string is a space |\n"
   ]
  },
  {
   "cell_type": "markdown",
   "id": "392a5047-3f95-4cec-aef3-5eac2b34abd5",
   "metadata": {
    "user_expressions": []
   },
   "source": [
    "## Replace Characters\n",
    "Let's try replacing the word `praise` in the first sentence with `wonders` using the `replace` method.\n",
    "\n",
    "`string.replace('old string', 'new string')`"
   ]
  },
  {
   "cell_type": "code",
   "execution_count": null,
   "id": "95ccb322-02fd-4f73-8021-0a0751fb7286",
   "metadata": {
    "tags": []
   },
   "outputs": [],
   "source": [
    "first_sentence=Carmen_Ohio[:32]\n",
    "revised_first_sentence=first_sentence.replace('praise','wonders')\n",
    "\n",
    "print(\"original first sentence: \"+ first_sentence)\n",
    "print(\"revised first sentence: \"+revised_first_sentence)"
   ]
  },
  {
   "cell_type": "markdown",
   "id": "adfe10df-4b89-42dc-8ce5-530e334c94e4",
   "metadata": {
    "user_expressions": []
   },
   "source": [
    "## Practice\n",
    "### 1. Isolate a sentence in Carmen Ohio\n"
   ]
  },
  {
   "cell_type": "code",
   "execution_count": null,
   "id": "0e0d98a9-c045-4f4f-9523-510174a4a64a",
   "metadata": {},
   "outputs": [],
   "source": [
    "# your code here"
   ]
  },
  {
   "cell_type": "markdown",
   "id": "da427f57-eb69-42c1-ad09-1bafeddc484b",
   "metadata": {
    "user_expressions": []
   },
   "source": [
    "### 2. Try replacing a word"
   ]
  },
  {
   "cell_type": "code",
   "execution_count": null,
   "id": "01f617ef-3d6b-4996-8844-87802b989911",
   "metadata": {},
   "outputs": [],
   "source": [
    "# your code here"
   ]
  },
  {
   "cell_type": "markdown",
   "id": "1c3a6628-3a74-4fc3-ac3f-f197f65d2c67",
   "metadata": {
    "user_expressions": []
   },
   "source": [
    "# Lowercase/Uppercase\n",
    "| **String Method** | **Explanation**                                                                                   |\n",
    "|:-------------:|:---------------------------------------------------------------------------------------------------:|\n",
    "| `string.lower()`         | makes the string lowercase                                                                                |\n",
    "| `string.upper()`         | makes the string uppercase  \n",
    "| `string.title()`         | makes the string titlecase "
   ]
  },
  {
   "cell_type": "code",
   "execution_count": null,
   "id": "d36103c5-df56-48ed-b46e-889062d1d5cc",
   "metadata": {
    "tags": []
   },
   "outputs": [],
   "source": [
    "name1 = \"McMurty, Larry\"\n",
    "name2 = \"Mcmurty, Larry\"\n",
    "name3 = \"mcmurty, larry\"\n",
    "\n",
    "name1_rev = name1.upper()\n",
    "name2_rev = name2.upper()\n",
    "name3_rev = name3.upper()\n",
    "\n",
    "print(name1_rev)\n",
    "print(name2_rev)\n",
    "print(name3_rev)\n"
   ]
  },
  {
   "cell_type": "code",
   "execution_count": null,
   "id": "9bfe43a0-d504-41b0-9388-9ad638fae41e",
   "metadata": {
    "tags": []
   },
   "outputs": [],
   "source": [
    "# your code here. Practice transforming name1, name2, and name3 using the uppercase, lowercase, and title string methods"
   ]
  },
  {
   "cell_type": "markdown",
   "id": "b0cad6fa-3eb1-42b1-a348-370c158b2f6b",
   "metadata": {
    "user_expressions": []
   },
   "source": [
    "# Split Strings with a Delimiter\n",
    "By default, Python splits strings using a space. Let's try splitting Carmen_Ohio using newlines `\\n` as a delimiter."
   ]
  },
  {
   "cell_type": "code",
   "execution_count": null,
   "id": "767d158d-83df-4483-a105-6b22b85ca3f8",
   "metadata": {
    "tags": []
   },
   "outputs": [],
   "source": [
    "Carmen_Ohio.split('\\n')"
   ]
  },
  {
   "cell_type": "markdown",
   "id": "53fb1332-a5a6-4b53-9b9e-9201fa583fb7",
   "metadata": {
    "tags": []
   },
   "source": [
    "Did you notice that this returned a list of lines for each row in Carmen_Ohio? The `split()` method returns a list of strings separated by the delimiter of your choosing. If we use the `split()` method on Carmen_Ohio and leave the delimiter blank ..."
   ]
  },
  {
   "cell_type": "code",
   "execution_count": null,
   "id": "76bd18c9-b111-4996-8c98-4597abf045f2",
   "metadata": {
    "tags": []
   },
   "outputs": [],
   "source": [
    "Carmen_Ohio.split()"
   ]
  },
  {
   "cell_type": "code",
   "execution_count": null,
   "id": "a9cab618-bfc4-4f23-b2ce-74aafb7a8c1c",
   "metadata": {},
   "outputs": [],
   "source": []
  }
 ],
 "metadata": {
  "kernelspec": {
   "display_name": "Python 3 (ipykernel)",
   "language": "python",
   "name": "python3"
  },
  "language_info": {
   "codemirror_mode": {
    "name": "ipython",
    "version": 3
   },
   "file_extension": ".py",
   "mimetype": "text/x-python",
   "name": "python",
   "nbconvert_exporter": "python",
   "pygments_lexer": "ipython3",
   "version": "3.9.15"
  }
 },
 "nbformat": 4,
 "nbformat_minor": 5
}
