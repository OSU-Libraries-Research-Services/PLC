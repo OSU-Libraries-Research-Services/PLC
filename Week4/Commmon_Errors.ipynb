{
 "cells": [
  {
   "cell_type": "markdown",
   "id": "8fcd6bcd-0c09-4be0-b88d-a3411dd5c807",
   "metadata": {
    "user_expressions": []
   },
   "source": [
    "# Common Python Errors\n",
    "Python errors are a way a life! You will make errors. Accept this. Keep calm. Use the error messages to troubleshoot your code.\n",
    "\n",
    "## SyntaxError\n",
    "`SyntaxError: EOL while scanning string literal`\\\n",
    "`SyntaxError: invalid syntax`\n",
    "\n",
    "The SyntaxError usually indicates you forgot a `:` at the end of the first line of a for loop or and if statement. You also might have forgotten a closing `\"`."
   ]
  },
  {
   "cell_type": "code",
   "execution_count": null,
   "id": "1f376b6a-6244-4de6-9eff-68ea756a05b6",
   "metadata": {
    "tags": []
   },
   "outputs": [],
   "source": [
    "print(\"It's a wonderful day!)"
   ]
  },
  {
   "cell_type": "code",
   "execution_count": null,
   "id": "f9c04c8e-3ce4-4d1f-98f8-5d5a545432c6",
   "metadata": {
    "tags": []
   },
   "outputs": [],
   "source": [
    "trees=[\"maple\",\"walnut\",\"oak\"]\n",
    "for tree in trees\n",
    "    print(tree)"
   ]
  },
  {
   "cell_type": "markdown",
   "id": "d6c480f4-a613-4617-83f6-c33d8b197ab2",
   "metadata": {
    "user_expressions": []
   },
   "source": [
    "## FileNotFound\n",
    "`FileNotFoundError: [Errno 2] No such file or directory: 'sample_file.txt'`\n",
    "\n",
    "You have an error in your directory path. Check for typos. Copy paste your path into Notepad and replace `\\` with `/` if necessary."
   ]
  },
  {
   "cell_type": "code",
   "execution_count": null,
   "id": "41df41bf-b365-4c36-b98a-ba7480b692fe",
   "metadata": {
    "tags": []
   },
   "outputs": [],
   "source": [
    "open('sample_file.txt').read()"
   ]
  },
  {
   "cell_type": "markdown",
   "id": "4a0cf5b1-0c56-4f1b-97bb-ef71beb363e3",
   "metadata": {
    "user_expressions": []
   },
   "source": [
    "## TypeError\n",
    "`TypeError: can only concatenate str (not \"int\") to str`\n",
    "\n",
    "This occurs when you ask Python to perform a task that is not appropriate for the data type you are working with. Remember you can check data type with the `type()` function."
   ]
  },
  {
   "cell_type": "code",
   "execution_count": null,
   "id": "31da7b4e-bdf6-4121-be0e-ba63c7008991",
   "metadata": {
    "tags": []
   },
   "outputs": [],
   "source": [
    "name=\"Sarah\"\n",
    "name+8"
   ]
  },
  {
   "cell_type": "code",
   "execution_count": null,
   "id": "837c1ab8-ca1f-49aa-b8cf-3ff944439d29",
   "metadata": {
    "tags": []
   },
   "outputs": [],
   "source": [
    "type(name)"
   ]
  },
  {
   "cell_type": "code",
   "execution_count": null,
   "id": "114b7258-638f-476b-abe2-ad7a88d3a58e",
   "metadata": {
    "tags": []
   },
   "outputs": [],
   "source": [
    "name+str(8)"
   ]
  },
  {
   "cell_type": "markdown",
   "id": "f9e09110-e825-47dc-b14b-3c511293120c",
   "metadata": {
    "user_expressions": []
   },
   "source": [
    "## NameError\n",
    "`NameError: name 'Name' is not defined`\n",
    "\n",
    "Occurs when then variable you call cannot be found. Look for spelling errors. Help yourself by making a conscious decision to only use lowercase letters for variable names before you start writing your Python program."
   ]
  },
  {
   "cell_type": "code",
   "execution_count": null,
   "id": "3b9797de-ca40-410d-9b17-49e71c556b7c",
   "metadata": {
    "tags": []
   },
   "outputs": [],
   "source": [
    "Name"
   ]
  },
  {
   "cell_type": "markdown",
   "id": "c5a1c9d1-11c1-4641-b436-a78354d31449",
   "metadata": {
    "user_expressions": []
   },
   "source": [
    "## AttributeError\n",
    "`AttributeError: 'list' object has no attribute 'enumberate'`\n",
    "\n",
    "If we forget `enumerate()` is a function and try to apply `enumerate()` as a method, an AttributeError will occur."
   ]
  },
  {
   "cell_type": "code",
   "execution_count": null,
   "id": "8f87d54b-d030-4d9e-9afd-391a0f522b27",
   "metadata": {
    "tags": []
   },
   "outputs": [],
   "source": [
    "##EXAMPLE WHERE ENUMERATE IS APPLIED AS A METHOD\n",
    "trees=[\"maple\",\"walnut\",\"oak\"]\n",
    "for tree in trees.enumberate():\n",
    "    print(tree)\n",
    "    "
   ]
  },
  {
   "cell_type": "code",
   "execution_count": null,
   "id": "11a1eb8b-573d-4af0-9982-c11213b804c2",
   "metadata": {
    "tags": []
   },
   "outputs": [],
   "source": [
    "##EXAMPLE WHERE ENUMERATE IS CORRECTLY APPLIED AS A FUNCTION\n",
    "trees=[\"maple\",\"walnut\",\"oak\"]\n",
    "for tree in enumerate(trees):\n",
    "    print(tree)"
   ]
  },
  {
   "cell_type": "code",
   "execution_count": null,
   "id": "342f159c-29a9-4cbc-9c35-84d1cb72a49c",
   "metadata": {},
   "outputs": [],
   "source": []
  }
 ],
 "metadata": {
  "kernelspec": {
   "display_name": "Python 3 (ipykernel)",
   "language": "python",
   "name": "python3"
  },
  "language_info": {
   "codemirror_mode": {
    "name": "ipython",
    "version": 3
   },
   "file_extension": ".py",
   "mimetype": "text/x-python",
   "name": "python",
   "nbconvert_exporter": "python",
   "pygments_lexer": "ipython3",
   "version": "3.9.15"
  }
 },
 "nbformat": 4,
 "nbformat_minor": 5
}
