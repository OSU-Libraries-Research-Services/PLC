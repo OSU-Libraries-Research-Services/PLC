{
 "cells": [
  {
   "cell_type": "markdown",
   "id": "11acbbb2-8221-4b00-9fe4-47ac28fee811",
   "metadata": {
    "user_expressions": []
   },
   "source": [
    "# Dictionaries\n",
    "Python dictionaries contain `\"key\":value` pairs separated by a `,`. Dictionaries are always encased in curly `{ }` brackets.\n"
   ]
  },
  {
   "cell_type": "code",
   "execution_count": null,
   "id": "fa05cfbc-78e4-42ca-b7bc-fb3b0d05df49",
   "metadata": {
    "tags": []
   },
   "outputs": [],
   "source": [
    "pet1 = {\"name\":\"Jordan\",\n",
    "        \"age\":8,\n",
    "        \"profession\":\"chipmunk control\"}"
   ]
  },
  {
   "cell_type": "markdown",
   "id": "64a41a9f-8817-46af-9095-7f5f326f3393",
   "metadata": {
    "user_expressions": []
   },
   "source": [
    "You can generate a list of all keys in a dictionary using the `.keys()` method and a list of all values in a dictionary using the `.values()` method."
   ]
  },
  {
   "cell_type": "code",
   "execution_count": null,
   "id": "18a814c3-29e7-4506-8be6-ee020a01b620",
   "metadata": {
    "tags": []
   },
   "outputs": [],
   "source": [
    "pet1.keys()"
   ]
  },
  {
   "cell_type": "code",
   "execution_count": null,
   "id": "0929972c-80ab-4bc4-b704-1e4745dcf9b5",
   "metadata": {
    "tags": []
   },
   "outputs": [],
   "source": [
    "pet1.values()"
   ]
  },
  {
   "cell_type": "markdown",
   "id": "8bf0be67-d30a-4605-b648-caf0a5d0dc54",
   "metadata": {
    "user_expressions": []
   },
   "source": [
    "## Access Dictionary Values\n",
    "Last week we practiced creating a list of [presidents](https://president.osu.edu/about-office/past-presidents) of The Ohio State University. Our first list contained the president's names and our second list contained the president's tenure dates.\n"
   ]
  },
  {
   "cell_type": "code",
   "execution_count": null,
   "id": "5229b57d-ec89-4b79-a1f1-588de8ac5453",
   "metadata": {
    "tags": []
   },
   "outputs": [],
   "source": [
    "presidents=[\"Edward Francis Baxter Orton Sr\",\"Walter Quincy Scott\",\"William Henry Scott\",\"James Hulme Canfield\",\"William Oxley Thompson\",\n",
    "            \"George Washington Rightmire\",\"William McPherson\",\"Howard Landis Bevis\",\"Novice Gail Fawcett\",\"Harold Leroy Enarson\",\n",
    "            \"Edward Harrington Jennings\",\"E. Gordon Gee\",\"John Richard Sisson\",\"William English Kirwan\",\"Edward Harrington Jennings\",\n",
    "            \"Karen Ann Holbrook\",\"Joseph A. Alutto\",\"E. Gordon Gee\",\"Joseph A. Alutto\",\"Michael V. Drake\",\"Kristina M. Johnson\",\n",
    "            \"Peter J. Mohler\",'Walter \"Ted\" Carter, Jr.']\n",
    "\n",
    "print(presidents)"
   ]
  },
  {
   "cell_type": "code",
   "execution_count": null,
   "id": "b1ec137f-c04a-490d-b240-fde13025145e",
   "metadata": {
    "tags": []
   },
   "outputs": [],
   "source": [
    "tenure_dates=['1873-1881','1881-1883','1883-1895','1895-1899','1899-1925','1925-1938','1938-1940','1940-1956',\n",
    "                  '1956-1972','1972-1981','1981-1990','1990-1998','1997-1998','1998-2002','2002','2002-2007','2007','2007-2013','2013-2014',\n",
    "                  '2014-2020','2020-2023','2023','2024-']\n",
    "\n",
    "print(tenure_dates)\n"
   ]
  },
  {
   "cell_type": "markdown",
   "id": "8cd62b4d-b2f5-486a-8a81-345bf1bcf1b6",
   "metadata": {
    "user_expressions": []
   },
   "source": [
    "We then practiced putting these lists together using \n",
    "- a `for` loop with the `.index()` and `.append()` methods;\n",
    "- a `for` loop with the `enumerate()` function; and \n",
    "- a `for` loop with the `zip()` function."
   ]
  },
  {
   "cell_type": "code",
   "execution_count": null,
   "id": "95aff1a1-c704-4c0c-9460-729e0af48ac5",
   "metadata": {
    "tags": []
   },
   "outputs": [],
   "source": [
    "for president, tenure in zip(presidents, tenure_dates):\n",
    "    print(f\"{president}, {tenure}\")"
   ]
  },
  {
   "cell_type": "markdown",
   "id": "4be60ad3-73b6-4b36-8597-08d997052c2a",
   "metadata": {
    "user_expressions": []
   },
   "source": [
    "We also practiced using a `for` loop with a conditional statement and a *f-string*. `f-strings` allow us to insert variables into a print statement. "
   ]
  },
  {
   "cell_type": "code",
   "execution_count": null,
   "id": "66c32365-da96-4d7a-949f-3319dbfda37f",
   "metadata": {
    "tags": []
   },
   "outputs": [],
   "source": [
    "for index, president in enumerate(presidents):\n",
    "    index=index+1\n",
    "    if index==1 or index==21:\n",
    "        superscript='st'\n",
    "    elif index==2 or index==22:\n",
    "        superscript='nd'\n",
    "    elif index==3 or index==23:\n",
    "        superscript='rd'\n",
    "    elif index>=4 and index<=20:\n",
    "        superscript='th'\n",
    "    print(f\"{president} was the {index}{superscript} president of The Ohio State University\")"
   ]
  },
  {
   "cell_type": "markdown",
   "id": "0a62308a-4b13-4a5d-8570-49e1893e9f1f",
   "metadata": {
    "user_expressions": []
   },
   "source": [
    "These approaches worked because our presidents list and our tenure_dates lists were the same length and the same order. With dictionaries, rather than relying on index position to find items, we find a item value with the dictionary key.\n",
    "\n",
    "`dictionary_name['key']`"
   ]
  },
  {
   "cell_type": "code",
   "execution_count": null,
   "id": "66beb49d-dea2-49da-83a9-8599ceaeb2dc",
   "metadata": {
    "tags": []
   },
   "outputs": [],
   "source": [
    "pet1 = {\"name\":\"Jordan\",\n",
    "        \"age\":8,\n",
    "        \"profession\":\"chipmunk control\"}\n",
    "\n",
    "pet1[\"name\"]"
   ]
  },
  {
   "cell_type": "code",
   "execution_count": null,
   "id": "8487ccd8-9eab-4b32-91ed-66f33e76f42d",
   "metadata": {
    "tags": []
   },
   "outputs": [],
   "source": [
    "president1 = {\"president\":\"Edward Francis Baxter Orton Sr\", \n",
    "              \"tenure\":\"1873-1881\"}\n",
    "\n",
    "president1[\"president\"]"
   ]
  },
  {
   "cell_type": "markdown",
   "id": "30059e3e-a877-4ef0-843e-c31919e6b7f1",
   "metadata": {
    "user_expressions": []
   },
   "source": [
    "## Add New Key-Value Pairs\n",
    "Like lists, dictionaries are dynamic structures, meaning you can add new key:value pairs to dictionaries at any time. "
   ]
  },
  {
   "cell_type": "code",
   "execution_count": null,
   "id": "c8949f2f-4ad3-4722-9e65-81094722c29d",
   "metadata": {
    "tags": []
   },
   "outputs": [],
   "source": [
    "president1[\"rank\"]=\"1st president\"\n",
    "\n",
    "president1"
   ]
  },
  {
   "cell_type": "markdown",
   "id": "2a6757b6-87d9-4b82-b7fb-c7334105d376",
   "metadata": {
    "user_expressions": []
   },
   "source": [
    "You can also start with an empty dictionary and add key:value pairs."
   ]
  },
  {
   "cell_type": "code",
   "execution_count": null,
   "id": "feb358ec-863a-4318-8f29-ad70a45412b1",
   "metadata": {
    "tags": []
   },
   "outputs": [],
   "source": [
    "state_facts={}\n",
    "state_facts[\"state\"]=\"Ohio\"\n",
    "state_facts[\"nicknames\"]=[\"The Buckeye State\",\"Birthplace of Aviation\",\"The Heart of It All\"]\n",
    "state_facts[\"capital\"]=\"Columbus\"\n",
    "state_facts[\"population\"]=11785935\n",
    "\n",
    "state_facts"
   ]
  },
  {
   "cell_type": "markdown",
   "id": "14f4bd9b-2457-4552-9e6a-aa70d4cf05c3",
   "metadata": {
    "user_expressions": []
   },
   "source": [
    "## Modify Values\n",
    "Dictionary values are modified using the dictionary name with the key in square brackets, followed by an equal sign and the new value you want to assign to the key."
   ]
  },
  {
   "cell_type": "code",
   "execution_count": null,
   "id": "5aed2789-6b36-4bd0-9414-d1739782d538",
   "metadata": {
    "tags": []
   },
   "outputs": [],
   "source": [
    "state_facts={}\n",
    "state_facts[\"state\"]=\"Michigan\"\n",
    "state_facts[\"nicknames\"]=[\"The Great Lake State\",\"The Wolverine State\",\"Water (Winter) Wonderland\"]\n",
    "state_facts[\"capital\"]=\"Lansing\"\n",
    "state_facts[\"population\"]=10077331\n",
    "\n",
    "state_facts"
   ]
  },
  {
   "cell_type": "markdown",
   "id": "797a5926-91a4-4522-a331-e68915fd6172",
   "metadata": {
    "user_expressions": []
   },
   "source": [
    "## Nesting Dictionaries\n",
    "Dictionaries are often nested inside of dictionaries."
   ]
  },
  {
   "cell_type": "code",
   "execution_count": null,
   "id": "18966859-e0fc-46e8-bb0a-bf3a3290dc37",
   "metadata": {
    "tags": []
   },
   "outputs": [],
   "source": [
    "states={\n",
    "    \"state1\":{'name': 'Ohio',\n",
    "              'nicknames': ['The Buckeye State','Birthplace of Aviation','The Heart of It All'],\n",
    "              'capital': 'Columbus',\n",
    "              'population': 11785935},\n",
    "    \"state2\":{\n",
    "        'name': 'Michigan',\n",
    "        'nicknames': ['The Great Lake State','The Wolverine State','Water (Winter) Wonderland'],\n",
    "        'capital': 'Lansing',\n",
    "        'population': 10077331}\n",
    "    }\n",
    "\n",
    "states"
   ]
  },
  {
   "cell_type": "code",
   "execution_count": null,
   "id": "368e31d9-b779-4f59-b545-bb4a7435cadb",
   "metadata": {
    "tags": []
   },
   "outputs": [],
   "source": [
    "states[\"state1\"]"
   ]
  },
  {
   "cell_type": "code",
   "execution_count": null,
   "id": "476136a7-cd48-4144-990d-128443099e1a",
   "metadata": {
    "tags": []
   },
   "outputs": [],
   "source": [
    "states[\"state1\"][\"name\"]"
   ]
  },
  {
   "cell_type": "markdown",
   "id": "2b6853ea-20b6-4f4e-8f76-f1d04af1f713",
   "metadata": {
    "user_expressions": []
   },
   "source": [
    "## Loop Through a Dictionary\n",
    "There are several ways to loop through a dictionary. You can loop through a dictionary's\n",
    "- key:value pairs using the `.items()` method,\n",
    "- keys using the `.keys()` method, or\n",
    "- values using the `.values()` method.\n"
   ]
  },
  {
   "cell_type": "code",
   "execution_count": null,
   "id": "e711074e-5ab3-4418-bbe6-b11eefcf82e5",
   "metadata": {
    "tags": []
   },
   "outputs": [],
   "source": [
    "for key, value in states.items():\n",
    "    print(f\"\\nKey: {key}\")\n",
    "    print(f\"\\nValue: {value}\")"
   ]
  },
  {
   "cell_type": "markdown",
   "id": "44dea783-73e5-4893-ae6a-a72dae015c64",
   "metadata": {
    "user_expressions": []
   },
   "source": [
    "## Loop Through a Nested Dictionary"
   ]
  },
  {
   "cell_type": "code",
   "execution_count": null,
   "id": "3748101c-f3c5-4fa6-b32e-c80afc84bca6",
   "metadata": {
    "tags": []
   },
   "outputs": [],
   "source": [
    "for key, value in states.items():\n",
    "    for k, v in value.items():\n",
    "        print(f\"\\nKey: {k}\")\n",
    "        print(f\"\\nValue: {v}\")"
   ]
  },
  {
   "cell_type": "code",
   "execution_count": null,
   "id": "884849b0-24c1-4e48-a7d4-4da83d65fc60",
   "metadata": {
    "tags": []
   },
   "outputs": [],
   "source": [
    "for state in states.keys():\n",
    "    print(state)"
   ]
  },
  {
   "cell_type": "code",
   "execution_count": null,
   "id": "f3cbf92a-f337-4773-8ca9-db2681fde10d",
   "metadata": {
    "tags": []
   },
   "outputs": [],
   "source": [
    "for state in states.values():\n",
    "    for each_state in state.keys():\n",
    "        print(each_state)"
   ]
  },
  {
   "cell_type": "code",
   "execution_count": null,
   "id": "4a7ab76a-c308-4f10-99db-67a607070077",
   "metadata": {
    "tags": []
   },
   "outputs": [],
   "source": [
    "for state in states.values():\n",
    "    for each_state in state.values():\n",
    "        print(each_state)"
   ]
  },
  {
   "cell_type": "markdown",
   "id": "83ff71de-5084-47fb-8d07-88fb6fa3117a",
   "metadata": {
    "user_expressions": []
   },
   "source": [
    "## Practice\n"
   ]
  },
  {
   "cell_type": "code",
   "execution_count": null,
   "id": "f1f646f7-871c-42c1-9bda-fe73a1503362",
   "metadata": {
    "tags": []
   },
   "outputs": [],
   "source": [
    "#From  Alaska Fish and Game website\n",
    "\n",
    "crabs={\"Blue King\":\n",
    "       {\"scientific name\":\"Paralithodes platypus\",\n",
    "        \"size\":\"Up to 18 pounds for a mature male\",\n",
    "        \"range\":\"major concentrations primarily in Bering Sea\",\n",
    "        \"diet\":[\"worms\",\"clams\",\"mussels\",\"snails\",\"brittle stars\",\"sea stars\",\"sea urchins\",\"sand dollars\",\"barnacles\",\"crabs\",\"other crustaceans\",\"fish parts\",\"sponges\",\"algae\"],\n",
    "        \"predators\":[\"marine fishes\",\"king crab\",\"octopus\"]},\n",
    "       \"Dungeness\":\n",
    "       {\"scientific name\":\"Metacarcinus magister\",\n",
    "        \"size\":\"A legal-sized Dungeness crab is 6 1/2 inches in carapace width (shoulder width) and weighs approximately 2 pounds.\",\n",
    "        \"range\":\"Aleutian Islands to Magdalena Bay, Mexico\",\n",
    "        \"diet\":[\"worms\",\"small clams\", \"shrimp\",\"fish\"],\n",
    "        \"predators\":[\"humans\",\"sea otter\",\"octopus\",\"Pacific halibut\"]},\n",
    "      \"Golden King\":\n",
    "       {\"scientific name\":\"Lithodes aequispinus\",\n",
    "        \"size\":\"5-8 pounds.\",\n",
    "        \"range\":\"Aleutian Islands, Pribilof and Shumagin Islands, Prince William Sound, lower Chatham Strait\",\n",
    "        \"diet\":[\"worms\",\"clams\",\"mussels\",\"snails\", \"brittle stars\",\"sea stars\",\"sea urchins\",\"sand dollars\",\"barnacles\",\"crabs\",\"other crustaceans\",\"fish parts\",\"sponges\",\"algae\"],\n",
    "        \"predators\":[\"Pacific cod\",\"sculpins\",\"octopus\",\"halibut\",\"yellowfin sole\",\"other king crabs\",\"sea otters\",\"nemertean worms\"]},\n",
    "      \"Red King\":\n",
    "       {\"scientific name\":\"Paralithodes camtschaticus\",\n",
    "        \"size\":\"Females up to 10.5 lbs; Males up to 24 lbs and leg span of five feet\",\n",
    "        \"range\":\"British Columbia to Japan north to the Bering Sea with Bristol  Bay and Kodiak Archipelago being the centers of its abundance in Alaska\",\n",
    "        \"diet\":[\"worms\",\"clams\",\"mussels\",\"algae\",\"fish\",\"sea stars\",\"sand dollars\",\"brittle stars\"],\n",
    "        \"predators\":[\"Pacific cod\",\"walleye pollock\",\"rock sole\",\"flathead sole\",\"rex sole\",\"Dover sole\",\"arrowtooth flounder\",\"Elasmobranchs\",\"halibut\",\"sculpin\",\"Greenland turbot\",\"Pacific salmon\",\"Pacific herring\",\"otters\",\"seals\"]},\n",
    "       \"Tanner\":\n",
    "       {\"scientific name\":\"Chionoecetes bairdi and C. opilio\",\n",
    "        \"size\":\"Mature males typically weigh 1-2 pounds for opilio and 2-4 pounds for bairdi\",\n",
    "        \"range\":\"North Pacific Ocean and Bering Sea\",\n",
    "        \"diet\":[\"fish\",\"shrimp\",\"crabs\",\"worms\",\"clams\",\"brittle stars\",\"snails\",\"algae\",\"sponges\"],\n",
    "        \"predators\":[\"seals\",\"sea otters\",\"octopi\",\"other crabs\",\"fish\"]}\n",
    "       }\n",
    "       \n",
    "#Loop through this nested dictionary of Alaskan crab species."
   ]
  },
  {
   "cell_type": "code",
   "execution_count": null,
   "id": "7165bd18-8949-44fb-bfe8-4fc96aa1eb97",
   "metadata": {},
   "outputs": [],
   "source": []
  }
 ],
 "metadata": {
  "kernelspec": {
   "display_name": "Python 3 (ipykernel)",
   "language": "python",
   "name": "python3"
  },
  "language_info": {
   "codemirror_mode": {
    "name": "ipython",
    "version": 3
   },
   "file_extension": ".py",
   "mimetype": "text/x-python",
   "name": "python",
   "nbconvert_exporter": "python",
   "pygments_lexer": "ipython3",
   "version": "3.9.15"
  }
 },
 "nbformat": 4,
 "nbformat_minor": 5
}
