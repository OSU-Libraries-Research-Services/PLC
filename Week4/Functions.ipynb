{
 "cells": [
  {
   "cell_type": "markdown",
   "id": "8669b02d-71b6-471e-8976-23b5772ddbad",
   "metadata": {
    "user_expressions": []
   },
   "source": [
    "# Functions\n",
    "We have used a number of built-in python functions to manipulate data and perform tasks.\n",
    "- print()\n",
    "- type()\n",
    "- enumerate()\n",
    "\n",
    "We also defined our own `split_into_words` function when we explored the Anatomy of a Python script in Week 1.\n",
    "\n",
    "`import re`\\\n",
    "`from collections import Counter`\n",
    "\n",
    "`def split_into_words(any_chunk_of_text):`\\\n",
    "`    lowercase_text = any_chunk_of_text.lower()`\\\n",
    "`    split_words = re.split(\"\\W+\", lowercase_text)`\\\n",
    "`    return split_words`\n",
    "\n",
    "We can create our own functions to tell Python how to handle a specific task and then *call* the function to perform the task. Defining your own functions is especially helpful if you need Python to perform a specific task several times throughout a program, saving you from typing the same code again and again.\n",
    "\n",
    "## Define a Function\n",
    "Functions start with the keyword `def` to tell Python that you are defining a function. `def` is then followed by the name of the function you wish to define, followed by `( )` and a `:`. After defining the name of your function, the next lines are indented and tell Python what to do."
   ]
  },
  {
   "cell_type": "code",
   "execution_count": null,
   "id": "ba550c89-665c-4663-ae65-08354a4e0466",
   "metadata": {
    "tags": []
   },
   "outputs": [],
   "source": [
    "def say_hello():\n",
    "    print(\"Hello\")\n",
    "    "
   ]
  },
  {
   "cell_type": "markdown",
   "id": "27f7f70c-65d1-46c8-9810-2c654e050b65",
   "metadata": {
    "user_expressions": []
   },
   "source": [
    "## Call a Function\n",
    "To *call* the function, type the name of the function followed by parentheses."
   ]
  },
  {
   "cell_type": "code",
   "execution_count": null,
   "id": "f68bcdee-edf4-4da0-8ffe-71409e8b8b99",
   "metadata": {
    "tags": []
   },
   "outputs": [],
   "source": [
    "say_hello()"
   ]
  },
  {
   "cell_type": "markdown",
   "id": "1f9a8e7c-085c-4749-9cdd-db2c557742a2",
   "metadata": {
    "user_expressions": []
   },
   "source": [
    "## Arguments and Parameters\n",
    "If I enclose the variable `name` in the parentheses after my chosen function name, I can pass a value into the function that the function needs to perform its task. The variable `name` represents a *parameter*. Parameters allow you to dynamically define variables. "
   ]
  },
  {
   "cell_type": "markdown",
   "id": "c1abecca-d08d-40c6-b14c-34980bae0962",
   "metadata": {
    "tags": []
   },
   "source": [
    "def say_hello(name):\n",
    "    print(f\"Hello, {name}\")"
   ]
  },
  {
   "cell_type": "markdown",
   "id": "1d095b8a-21e8-41a7-bae3-b63b3939e1c1",
   "metadata": {
    "user_expressions": []
   },
   "source": [
    "When I call the function `say_hello`, the actual name - or value - I pass to the function parentheses is the *argument*."
   ]
  },
  {
   "cell_type": "code",
   "execution_count": null,
   "id": "a91b3b77-c3f4-4256-b2b2-1dab6e2340bc",
   "metadata": {
    "tags": []
   },
   "outputs": [],
   "source": [
    "say_hello(\"Sarah\")"
   ]
  },
  {
   "cell_type": "markdown",
   "id": "7d09f0ec-7dc7-40b1-84d3-1f655abebdea",
   "metadata": {
    "user_expressions": []
   },
   "source": [
    "- the *parameter* defines a dynamic variable\\\n",
    "`def function_name(parameter):`\n",
    "\n",
    "- the *argument* is the actual value you pass into the function\\\n",
    "`function_name(argument)`\n",
    "\n",
    "If I define a function with a parameter, I must call the function with an argument."
   ]
  },
  {
   "cell_type": "code",
   "execution_count": null,
   "id": "55c7e64e-8648-4fa8-8add-8ce6535016a9",
   "metadata": {
    "tags": []
   },
   "outputs": [],
   "source": [
    "#function defined with a parameter\n",
    "def say_hello(name):\n",
    "    print(f\"Hello, {name}\")\n",
    "\n",
    "#function called without an argument\n",
    "say_hello()"
   ]
  },
  {
   "cell_type": "code",
   "execution_count": null,
   "id": "50933262-cf94-4e75-9d4d-f3154709fdcc",
   "metadata": {
    "tags": []
   },
   "outputs": [],
   "source": [
    "#function called with an argument\n",
    "say_hello(\"Jordan\")"
   ]
  },
  {
   "cell_type": "markdown",
   "id": "57ba4658-7d79-4bf3-8ad5-1cb7e992af83",
   "metadata": {
    "user_expressions": []
   },
   "source": [
    "## Positional vs. Keyword Arguments\n",
    "Python matches each argument with a parameter in the function definition. By default, arguments are matched to parameters based on the order of the arguments entered. This is known as *positional arguments*."
   ]
  },
  {
   "cell_type": "code",
   "execution_count": null,
   "id": "b6bbea99-1822-419c-bc7a-266bfc7b93f1",
   "metadata": {
    "tags": []
   },
   "outputs": [],
   "source": [
    "def describe_pet(animal_type, pet_name):\n",
    "    print(f\"\\nI have a {animal_type}\")\n",
    "    print(f\"\\nMy {animal_type}'s name is {pet_name.title()}.\")\n",
    "    \n",
    "describe_pet('dog','jordan')    "
   ]
  },
  {
   "cell_type": "markdown",
   "id": "c547a166-b4e4-45c3-9520-2eff5b7757e0",
   "metadata": {
    "user_expressions": []
   },
   "source": [
    "*Keyword arguments* use a name_value pair to pass information to a function. This allows you to specifically assign your arguments to a specific parameter, eliminating the need to know the position of function parameters."
   ]
  },
  {
   "cell_type": "code",
   "execution_count": null,
   "id": "b510f2af-a4c4-4a33-a69e-685fbfefbdf2",
   "metadata": {
    "tags": []
   },
   "outputs": [],
   "source": [
    "describe_pet(pet_name='Jordan',animal_type='dog')"
   ]
  },
  {
   "cell_type": "markdown",
   "id": "2b62743d-999a-4925-b9df-9f54de94ee25",
   "metadata": {
    "user_expressions": []
   },
   "source": [
    "## Return Values\n",
    "So far we've used the `print()` function in our own defined functions, which naturally returns a value. Sometimes we ask Python to process data in a function and then `return` a value.\n",
    "\n",
    "The `split_into_words` function in the Anatomy of a Python script we explored in Week 1 processes the argument passed into the `any_chunk_of_text` parameter and then with the word `return` returns the list `split_words`.\n",
    "\n",
    "`import re`\\\n",
    "`from collections import Counter`\n",
    "\n",
    "`def split_into_words(any_chunk_of_text):`\\\n",
    "`    lowercase_text = any_chunk_of_text.lower()`\\\n",
    "`    split_words = re.split(\"\\W+\", lowercase_text)`\\\n",
    "`    return split_words`\n",
    "\n"
   ]
  },
  {
   "cell_type": "code",
   "execution_count": null,
   "id": "8e7a9737-163f-45ee-9df9-4e0b27d1d3da",
   "metadata": {
    "tags": []
   },
   "outputs": [],
   "source": [
    "def format_name(first_name, last_name):\n",
    "    full_name=f\"{first_name} {last_name}\"\n",
    "    return full_name.title()\n",
    "\n",
    "name=format_name('sarah','murphy')\n",
    "print(name)"
   ]
  },
  {
   "cell_type": "markdown",
   "id": "f54d83f3-8e89-4dfb-a16a-54ecbee35b25",
   "metadata": {
    "user_expressions": []
   },
   "source": [
    "## Practice\n",
    "Make a function that transforms a book title to lower case"
   ]
  },
  {
   "cell_type": "code",
   "execution_count": null,
   "id": "5ac49592-8968-44f5-bc13-cbc286162e19",
   "metadata": {},
   "outputs": [],
   "source": [
    "#define your function first. Give it a name and assign a parameter.\n",
    "    #your code block here\n",
    "    return #your code here\n"
   ]
  }
 ],
 "metadata": {
  "kernelspec": {
   "display_name": "Python 3 (ipykernel)",
   "language": "python",
   "name": "python3"
  },
  "language_info": {
   "codemirror_mode": {
    "name": "ipython",
    "version": 3
   },
   "file_extension": ".py",
   "mimetype": "text/x-python",
   "name": "python",
   "nbconvert_exporter": "python",
   "pygments_lexer": "ipython3",
   "version": "3.9.15"
  }
 },
 "nbformat": 4,
 "nbformat_minor": 5
}
