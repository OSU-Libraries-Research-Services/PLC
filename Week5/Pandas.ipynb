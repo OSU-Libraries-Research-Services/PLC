{
 "cells": [
  {
   "cell_type": "markdown",
   "id": "eb321dc5-967d-4659-854f-688a15f756eb",
   "metadata": {},
   "source": [
    "# Pandas\n",
    "Pandas is a Python library for cleaning and analyzing data using *Series* and *DataFrames* data structures. Data can be imported into pandas from .csv, .json, and .xlsx files, as well as SQL database tables. \n",
    "\n",
    "To explore pandas we will look at a list of publications indexed in [PubMed](https://pubmed.ncbi.nlm.nih.gov/) between 2018 and 2022 that had at least one NIH funded Ohio State author. We will start by importing the file `publications.csv` into pandas.\n",
    "\n",
    "## Import a .csv file\n",
    "\n",
    "To use a library in Python we must first `import` the library. When importing pandas it is common convention to assign pandas the alias `pd`. This will save you time when typing pandas commands in Python. We then read in our `publications.csv` file and assign the read file to the variable `publications_df`."
   ]
  },
  {
   "cell_type": "code",
   "execution_count": null,
   "id": "a0a3824e-dc9f-41c1-aaa8-c0493456dcfb",
   "metadata": {
    "tags": []
   },
   "outputs": [],
   "source": [
    "import pandas as pd\n",
    "publications_df = pd.read_csv('publications.csv', delimiter=',')\n",
    "\n",
    "publications_df"
   ]
  },
  {
   "cell_type": "markdown",
   "id": "7a5b9f26-ee1f-4523-8256-99794e7ff0c3",
   "metadata": {
    "user_expressions": []
   },
   "source": [
    "## View data\n",
    "Pandas automatically displayed the first five and last five rows of the data. The numbers in the first column represent an index that pandas automatically assigned to each row. The index is used to select rows. You can assign the index to another column, if appropriate.\n",
    "\n",
    "### .head()\n",
    "displays more rows"
   ]
  },
  {
   "cell_type": "code",
   "execution_count": null,
   "id": "3946c2eb-0ca7-44c2-833a-4130552b3da6",
   "metadata": {
    "tags": []
   },
   "outputs": [],
   "source": [
    "publications_df.head(50)"
   ]
  },
  {
   "cell_type": "markdown",
   "id": "3ce24c19-1293-41a8-afe8-bbb263088820",
   "metadata": {
    "user_expressions": []
   },
   "source": [
    "### .sample()\n",
    "displays random sample of rows"
   ]
  },
  {
   "cell_type": "code",
   "execution_count": null,
   "id": "d143c8f2-847d-4adb-8497-84ee6c739e79",
   "metadata": {
    "tags": []
   },
   "outputs": [],
   "source": [
    "publications_df.sample(10)"
   ]
  },
  {
   "cell_type": "markdown",
   "id": "44017968-868e-42f5-bf86-f65ddc7e8281",
   "metadata": {
    "user_expressions": []
   },
   "source": [
    "### .info()\n",
    "Gets a quick list of column names, a count of the non-null values in each column, and the data type for each column. Pandas data types include:\n",
    "\n",
    "| **Pandas Data Type** |  **Explanation**                                                                                   |\n",
    "|:-------------:|:---------------------------------------------------------------------------------------------------:|\n",
    "| `object`         | string                                                                               |\n",
    "| `float64`         | float                                               |\n",
    "| `int64`       | integer                                                        |\n",
    "| `datetime64`       |  date time    "
   ]
  },
  {
   "cell_type": "code",
   "execution_count": null,
   "id": "b3ff5305-6047-4f5b-81a3-d77291903090",
   "metadata": {
    "tags": []
   },
   "outputs": [],
   "source": [
    "publications_df.info()"
   ]
  },
  {
   "cell_type": "markdown",
   "id": "b7627597-9d94-432e-87de-5da328b959f0",
   "metadata": {
    "user_expressions": []
   },
   "source": [
    "### .shape\n",
    "Shows the number of rows and columns in the dataset.\n"
   ]
  },
  {
   "cell_type": "code",
   "execution_count": null,
   "id": "e75b715b-fb7e-4f44-9c14-8ae64b67cab1",
   "metadata": {
    "tags": []
   },
   "outputs": [],
   "source": [
    "publications_df.shape"
   ]
  },
  {
   "cell_type": "markdown",
   "id": "8573cb72-9282-4442-a7af-6751f1798d4c",
   "metadata": {
    "user_expressions": []
   },
   "source": [
    "### .columns\n",
    "Provides list of column names"
   ]
  },
  {
   "cell_type": "code",
   "execution_count": null,
   "id": "c8099c40-e2df-40b2-a1f8-427a864270b7",
   "metadata": {
    "tags": []
   },
   "outputs": [],
   "source": [
    "publications_df.columns"
   ]
  },
  {
   "cell_type": "markdown",
   "id": "edf8950f-ea95-4396-bbee-38e6327151b0",
   "metadata": {
    "user_expressions": []
   },
   "source": [
    "### .describe()\n",
    "Provides summary statistics, if applicable, for your dataset\n"
   ]
  },
  {
   "cell_type": "code",
   "execution_count": null,
   "id": "2b6c80f6-edb5-4324-bc59-8d726d60c64c",
   "metadata": {
    "tags": []
   },
   "outputs": [],
   "source": [
    "publications_df.describe(include='all')"
   ]
  },
  {
   "cell_type": "markdown",
   "id": "4235baa3-8b8e-42b0-b4d9-2793fbedf7da",
   "metadata": {
    "user_expressions": []
   },
   "source": [
    "## Working with Columns"
   ]
  },
  {
   "cell_type": "markdown",
   "id": "14b176f5-a18c-4504-a130-cf98f14448cd",
   "metadata": {
    "user_expressions": []
   },
   "source": [
    "### Select Column(s)\n",
    "Syntax:\\\n",
    "`name_df['column name']`\n"
   ]
  },
  {
   "cell_type": "code",
   "execution_count": null,
   "id": "7d614a73-dcac-44bd-a620-6d762ca0115c",
   "metadata": {
    "tags": []
   },
   "outputs": [],
   "source": [
    "publications_df['journal_title']"
   ]
  },
  {
   "cell_type": "markdown",
   "id": "ff0dac02-2257-4a29-abae-27268541a557",
   "metadata": {},
   "source": [
    "To select more than one column, enclose the column name in double square brackets. Why? Pandas considers a column name in single square brackets a Series object."
   ]
  },
  {
   "cell_type": "code",
   "execution_count": null,
   "id": "c2f94ad7-3849-4dda-9337-23c39565cf2b",
   "metadata": {
    "tags": []
   },
   "outputs": [],
   "source": [
    "type(publications_df['journal_title'])"
   ]
  },
  {
   "cell_type": "markdown",
   "id": "c163bbd2-2a05-4163-822e-7b16520e8e17",
   "metadata": {},
   "source": [
    "Column names enclosed in double square brackets are considered DataFrame object."
   ]
  },
  {
   "cell_type": "code",
   "execution_count": null,
   "id": "148c97e2-0d45-4d7c-8de9-019c09d20799",
   "metadata": {
    "tags": []
   },
   "outputs": [],
   "source": [
    "type(publications_df[['journal_title']])"
   ]
  },
  {
   "cell_type": "markdown",
   "id": "e9f663ab-de8b-4e9b-90fb-9c43abd6bd78",
   "metadata": {
    "user_expressions": []
   },
   "source": [
    "The Series object `publications_df['JournalTitle']` will display differently than the DataFrame object `publications_df[['JournalTitle']]`. The Series object will also return an error if I try to select more than one column. "
   ]
  },
  {
   "cell_type": "code",
   "execution_count": null,
   "id": "03b1e928-bc37-4fad-9a86-d770af5716f9",
   "metadata": {
    "tags": []
   },
   "outputs": [],
   "source": [
    "##Note, this will return an error\n",
    "publications_df['journal_title','journal_abbr']"
   ]
  },
  {
   "cell_type": "code",
   "execution_count": null,
   "id": "01f0517f-dbfb-4615-8aba-3e11c809144f",
   "metadata": {
    "tags": []
   },
   "outputs": [],
   "source": [
    "## Note Series object display formatting\n",
    "publications_df['journal_title']"
   ]
  },
  {
   "cell_type": "markdown",
   "id": "2ad50669-94a7-447c-851a-e36d002b537b",
   "metadata": {},
   "source": [
    "The DataFrame object allows me to select more than one column."
   ]
  },
  {
   "cell_type": "code",
   "execution_count": null,
   "id": "1943826d-ec6b-4014-9576-8d647cf25501",
   "metadata": {
    "tags": []
   },
   "outputs": [],
   "source": [
    "publications_df[['journal_title','journal_abbr']]"
   ]
  },
  {
   "cell_type": "markdown",
   "id": "2a7c5c66-adda-45c7-b4c6-a057ac9f6c7c",
   "metadata": {
    "user_expressions": []
   },
   "source": [
    "### Rename Columns\n",
    "\n",
    "Syntax:\\\n",
    "`df_name.rename(columns={'old name':'new name'})`"
   ]
  },
  {
   "cell_type": "code",
   "execution_count": null,
   "id": "fdfe13ad-b5fe-477b-b02f-057db561a6c7",
   "metadata": {
    "tags": []
   },
   "outputs": [],
   "source": [
    "publications_df.rename(columns={'journal_title':'Journal_Title'})"
   ]
  },
  {
   "cell_type": "markdown",
   "id": "c4c631c3-1907-461f-b833-197043a32b8f",
   "metadata": {
    "user_expressions": []
   },
   "source": [
    "### Drop Columns\n",
    "\n",
    "To drop one column\n",
    "\n",
    "Syntax:\n",
    "`df_name.drop(columns=\"column name to drop\")`\n",
    "\n",
    "To drop more than one column\n",
    "`df_name.drop(columns=[\"column1 to drop\",\"column2 to drop\"])`\n"
   ]
  },
  {
   "cell_type": "code",
   "execution_count": null,
   "id": "2da3fd1d-71d4-4226-a439-bf6e4a641006",
   "metadata": {
    "tags": []
   },
   "outputs": [],
   "source": [
    "one_dropped_column=publications_df.drop(columns=\"pub_year\")"
   ]
  },
  {
   "cell_type": "code",
   "execution_count": null,
   "id": "e9b2183d-6ff6-4dda-a598-e2b1aba74ab6",
   "metadata": {
    "tags": []
   },
   "outputs": [],
   "source": [
    "one_dropped_column"
   ]
  },
  {
   "cell_type": "code",
   "execution_count": null,
   "id": "259fa763-fb92-4653-b821-9eaf5d6c5063",
   "metadata": {
    "tags": []
   },
   "outputs": [],
   "source": [
    "publications_df"
   ]
  },
  {
   "cell_type": "code",
   "execution_count": null,
   "id": "c445fc6f-e2e4-4eec-a465-ed40a3368e92",
   "metadata": {
    "tags": []
   },
   "outputs": [],
   "source": [
    "two_dropped_columns=publications_df.drop(columns=['pub_year','authors'])"
   ]
  },
  {
   "cell_type": "code",
   "execution_count": null,
   "id": "d687fc63-cbe3-413e-b406-b95233c4be16",
   "metadata": {
    "tags": []
   },
   "outputs": [],
   "source": [
    "two_dropped_columns"
   ]
  },
  {
   "cell_type": "markdown",
   "id": "09aa6666-fa14-44e7-a4c4-a51e6006bfeb",
   "metadata": {
    "user_expressions": []
   },
   "source": [
    "### Add Columns\n",
    "Syntax:\\\n",
    "`df_name['new column name']=new_column_value`\n",
    "This assigns values to the newly created column"
   ]
  },
  {
   "cell_type": "code",
   "execution_count": null,
   "id": "1cfbe7de-02c1-4670-aa68-1090dff2fae5",
   "metadata": {
    "tags": []
   },
   "outputs": [],
   "source": [
    "publications_df['new_column']='new column value'"
   ]
  },
  {
   "cell_type": "code",
   "execution_count": null,
   "id": "c106c3b1-773b-441d-8bf3-d0da44be4460",
   "metadata": {
    "tags": []
   },
   "outputs": [],
   "source": [
    "publications_df.columns"
   ]
  },
  {
   "cell_type": "code",
   "execution_count": null,
   "id": "ab7987ff-1db9-42fd-b6e3-7f35f4382611",
   "metadata": {
    "tags": []
   },
   "outputs": [],
   "source": [
    "publications_df['new_column']"
   ]
  },
  {
   "cell_type": "markdown",
   "id": "771f43f8-964e-46d3-b634-1d342c3ced33",
   "metadata": {
    "user_expressions": []
   },
   "source": [
    "## Filter | Limit Data\n",
    "To filter a column to only display values for one condition, such as only display rows with the JournalTitle **Nature communications**\n",
    "\n",
    "Start by writing the conditional statement first\n",
    "\n",
    "`publications_df['JournalTitle'] == 'Nature communications'`\n",
    "\n",
    "Then use the original select column syntax `name_df['column name']` and substitute your conditional statement for 'column name' \n",
    "\n",
    "`name_df[conditional statement]`"
   ]
  },
  {
   "cell_type": "code",
   "execution_count": null,
   "id": "dc1da1b1-0f92-46c8-a879-ab17285a36d3",
   "metadata": {
    "tags": []
   },
   "outputs": [],
   "source": [
    "publications_df[publications_df['journal_title'] == 'Nature communications']"
   ]
  },
  {
   "cell_type": "markdown",
   "id": "d5719ce4-b511-49a3-b2e4-cff15756b24a",
   "metadata": {
    "user_expressions": []
   },
   "source": [
    "To simplify writing these statements, you may want to assign the conditional statement to a variable first and then substitute the conditional statement variable for the column name. "
   ]
  },
  {
   "cell_type": "code",
   "execution_count": null,
   "id": "7d6af0ca-2b84-4bc6-8d8e-9a7706ec2299",
   "metadata": {
    "tags": []
   },
   "outputs": [],
   "source": [
    "nature_communications_filter=publications_df['journal_title'] == 'Nature communications'\n",
    "\n",
    "publications_df[nature_communications_filter]"
   ]
  },
  {
   "cell_type": "markdown",
   "id": "207f162c-6761-44bc-b79e-e936c92ccdf7",
   "metadata": {
    "user_expressions": []
   },
   "source": [
    "## Iterate through .csv file:\n",
    "We iterate through each index and row of a .csv file using the `.iterrows()` method with the df_name in a for loop. We pull the value for each column in a row using the syntax `row.column_name`. We can also use the `.iloc` method with the slicing techniques for strings and lists to ignore the header and/or pull certain rows from the list. \n",
    "\n",
    "Syntax:\\\n",
    "`for idx, row in df_name.iloc[x:y].iterrows():`\\\n",
    "`     variable1=row.column_name`"
   ]
  },
  {
   "cell_type": "code",
   "execution_count": null,
   "id": "efb054ea-e93d-49de-8306-4dceeeda2348",
   "metadata": {
    "tags": []
   },
   "outputs": [],
   "source": [
    "for idx, row in publications_df.iloc[1:10].iterrows(): #start at 1 because the headers are in row 0\n",
    "    row_index=idx\n",
    "    article_title=row.article_title\n",
    "    journal_title=row.journal_title\n",
    "    journal_abbr=row.journal_abbr\n",
    "    pub_year=row.pub_year\n",
    "    journal_volume=row.journal_volume\n",
    "    journal_issue=row.journal_issue\n",
    "    page_numbers=row.page_number\n",
    "    \n",
    "    print(row_index)\n",
    "    print(f\"Article Title = {article_title}\")\n",
    "    print(f\"{journal_abbr}. {pub_year};{journal_volume}({journal_issue}){page_numbers}\")\n",
    "\n",
    "    \n",
    "    \n",
    "    "
   ]
  },
  {
   "cell_type": "markdown",
   "id": "3f103809-f645-4589-9d9a-8e8ddccfd3f3",
   "metadata": {
    "user_expressions": []
   },
   "source": [
    "## Store results\n",
    "Usually we iterate through a DataFrame because we want to transform or normalize our data in some way. We then need to store our changes in a new DataFrame. In the example above, Python is reading through one row of the original DataFrame at a time and then making changes on that row. "
   ]
  },
  {
   "cell_type": "code",
   "execution_count": null,
   "id": "25e6230a-5e4c-4365-96ef-971621bf8d7c",
   "metadata": {
    "tags": []
   },
   "outputs": [],
   "source": [
    "#1. Create a DataFrame in which to store the results. Assign names to each column that will be included in the results. This DataFrame should be positioned before your for loop.\n",
    "\n",
    "\n",
    "df_results=pd.DataFrame(columns=[\"j_title\",\"year\"])\n",
    "\n",
    "#2. Create your `for` loop. \n",
    "                                 \n",
    "for idx, row in publications_df.iloc[1:11].iterrows():\n",
    "    journal_title=row.journal_title\n",
    "    pub_year=row.pub_year\n",
    "\n",
    "#3. Create a dictionary to store the individual row you created in your `for` loop. Then create a DataFrame to store this row.\n",
    "\n",
    "    row_for_dataframe={\n",
    "     \"j_title\":journal_title,\n",
    "     \"year\":pub_year\n",
    "     }\n",
    "    df_to_store_row=pd.DataFrame(row_for_dataframe, index=[0])\n",
    "    \n",
    "#4. Last use pd.concat() to add the row to df created in step 1 to store results.\n",
    "    df_results=pd.concat([df_to_store_row, df_results], axis=0, ignore_index=True)\n",
    "    \n",
    "    #axis=0 tells Python to concatenate rows; axis=1 concatenates columns.\n",
    "    #The parameter ignore_index=True resets the index number in df_results."
   ]
  },
  {
   "cell_type": "code",
   "execution_count": null,
   "id": "32c636fd-7fa8-4f0a-8a69-6b239dd872ed",
   "metadata": {
    "tags": []
   },
   "outputs": [],
   "source": [
    "df_results"
   ]
  },
  {
   "cell_type": "markdown",
   "id": "b7083f7c-5d2e-4d56-96ed-58624f2c46f8",
   "metadata": {
    "user_expressions": []
   },
   "source": [
    "## Write to .csv\n",
    "I can save my data in a new .csv file using the `.to_csv` method. The path for where I want to store the new file is in quotation marks. It is good practice to specify `encoding='utf-8`, especially if you are working with extended Latin or non-Roman characters. You can also remove the pandas assigned index  number by setting `index=False`."
   ]
  },
  {
   "cell_type": "code",
   "execution_count": null,
   "id": "64521559-0ea7-4432-af0b-c5249a774d2d",
   "metadata": {
    "tags": []
   },
   "outputs": [],
   "source": [
    "df_results.to_csv('results.csv', encoding='utf-8', index=False)"
   ]
  }
 ],
 "metadata": {
  "kernelspec": {
   "display_name": "Python 3 (ipykernel)",
   "language": "python",
   "name": "python3"
  },
  "language_info": {
   "codemirror_mode": {
    "name": "ipython",
    "version": 3
   },
   "file_extension": ".py",
   "mimetype": "text/x-python",
   "name": "python",
   "nbconvert_exporter": "python",
   "pygments_lexer": "ipython3",
   "version": "3.9.15"
  }
 },
 "nbformat": 4,
 "nbformat_minor": 5
}
