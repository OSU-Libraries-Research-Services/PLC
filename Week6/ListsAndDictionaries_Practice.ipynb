{
 "cells": [
  {
   "cell_type": "markdown",
   "id": "23910660-4d96-473b-8f29-e416305a224e",
   "metadata": {
    "user_expressions": []
   },
   "source": [
    "# Practice Working with Dictionaries and Lists\n",
    "\n",
    "\n",
    "\n"
   ]
  },
  {
   "cell_type": "markdown",
   "id": "ed661759-8348-4dc8-a570-28a4b4ed3577",
   "metadata": {
    "tags": [],
    "user_expressions": []
   },
   "source": [
    "## Exercise 1\n",
    "\n",
    "[Historic Ohio State:FAQ](https://library.osu.edu/archives/faq)\n",
    "\n",
    "From the list of Ohio State alumni and faculty Pulitzer Prize winners below, extract the 5th Pulitzer Prize Winner"
   ]
  },
  {
   "cell_type": "code",
   "execution_count": 2,
   "id": "9cdc4e1a-850c-407c-9f21-c5e3889cc893",
   "metadata": {},
   "outputs": [
    {
     "data": {
      "text/plain": [
       "'Judith Miller'"
      ]
     },
     "execution_count": 2,
     "metadata": {},
     "output_type": "execute_result"
    }
   ],
   "source": [
    "pulitzer_prize_winners=['Nick Anderson', 'Walt Boganich','Paul H. Buck','Julia Keller','Judith Miller','Stephen Ohlemacher','Mary Oliver','Diana K. Sugg']\n",
    "\n",
    "# Enter your code here\n",
    "pulitzer_prize_winners[4]"
   ]
  },
  {
   "cell_type": "markdown",
   "id": "df24b6f7-de35-40e7-a1f6-4bc4ff1f6696",
   "metadata": {
    "jp-MarkdownHeadingCollapsed": true,
    "tags": [],
    "user_expressions": []
   },
   "source": [
    "## Answer"
   ]
  },
  {
   "cell_type": "code",
   "execution_count": null,
   "id": "c372a5f2-1131-4ff5-8bd7-0467e7489c9c",
   "metadata": {},
   "outputs": [],
   "source": [
    "print(pulitzer_prize_winners[4])"
   ]
  },
  {
   "cell_type": "markdown",
   "id": "42684799-032c-47d7-8bf0-1714086a5b25",
   "metadata": {
    "tags": [],
    "user_expressions": []
   },
   "source": [
    "## Exercise 2\n",
    "Add \"Beat Reporting\" to the pulitzer_prize_category_list in the cell below."
   ]
  },
  {
   "cell_type": "code",
   "execution_count": 12,
   "id": "15d0e9bf-91a4-45f1-85ff-6a3b8c055da3",
   "metadata": {},
   "outputs": [
    {
     "data": {
      "text/plain": [
       "['Editorial Cartooning',\n",
       " ['Specialized Reporting', 'National Reporting', 'Investigative Reporting'],\n",
       " 'History',\n",
       " 'Feature Writing',\n",
       " 'Explanatory Reading',\n",
       " 'Breaking News Reporting',\n",
       " 'Poetry',\n",
       " 'Beat Reporting']"
      ]
     },
     "execution_count": 12,
     "metadata": {},
     "output_type": "execute_result"
    }
   ],
   "source": [
    "pulitzer_prize_category=['Editorial Cartooning',['Specialized Reporting','National Reporting','Investigative Reporting'],'History','Feature Writing','Explanatory Reading','Breaking News Reporting','Poetry']\n",
    "\n",
    "# Enter your code here\n",
    "pulitzer_prize_category.append(\"Beat Reporting\")\n",
    "pulitzer_prize_category"
   ]
  },
  {
   "cell_type": "markdown",
   "id": "ece19a93-9c2b-4318-92a2-62f41d138879",
   "metadata": {
    "tags": [],
    "user_expressions": []
   },
   "source": [
    "## Answer"
   ]
  },
  {
   "cell_type": "code",
   "execution_count": null,
   "id": "083a47e1-577e-4769-b84a-18de2cca69b4",
   "metadata": {
    "tags": []
   },
   "outputs": [],
   "source": [
    "pulitzer_prize_category.append('Beat Reporting')"
   ]
  },
  {
   "cell_type": "markdown",
   "id": "a2e5db62-eabd-42af-819d-553534056f63",
   "metadata": {
    "user_expressions": []
   },
   "source": [
    "## Exercise 3\n",
    "\n",
    "Make a for loop to print each Ohio State Pulitzer Prize winner."
   ]
  },
  {
   "cell_type": "code",
   "execution_count": 4,
   "id": "e3eb7c9c-6a15-4ad7-bf58-726966f77533",
   "metadata": {},
   "outputs": [
    {
     "name": "stdout",
     "output_type": "stream",
     "text": [
      "Nick Anderson\n",
      "Walt Boganich\n",
      "Paul H. Buck\n",
      "Julia Keller\n",
      "Judith Miller\n",
      "Stephen Ohlemacher\n",
      "Mary Oliver\n",
      "Diana K. Sugg\n"
     ]
    }
   ],
   "source": [
    "# Enter your code here\n",
    "for each_winner in pulitzer_prize_winners:\n",
    "    print(each_winner)"
   ]
  },
  {
   "cell_type": "markdown",
   "id": "b485ebfc-148f-4b5b-a7b0-cfdee8b36000",
   "metadata": {
    "tags": [],
    "user_expressions": []
   },
   "source": [
    "## Answer"
   ]
  },
  {
   "cell_type": "code",
   "execution_count": null,
   "id": "f85a6b62-5c4c-4ac6-b99c-6827627fd017",
   "metadata": {
    "jupyter": {
     "source_hidden": true
    },
    "tags": []
   },
   "outputs": [],
   "source": [
    "for winner in pulitzer_prize_winners:\n",
    "    print(winner)"
   ]
  },
  {
   "cell_type": "markdown",
   "id": "4fd52a97-72a0-4519-9f44-40f6f3fbfea9",
   "metadata": {
    "tags": [],
    "user_expressions": []
   },
   "source": [
    "## Exercise 4\n",
    "Using the past_presidents list in the cell below, count how many osu presidents were female.\n",
    "- Note that you're working with a list of lists\n",
    "- Try using a counter variable to count the number of female presidents"
   ]
  },
  {
   "cell_type": "code",
   "execution_count": 14,
   "id": "fbc41b6a-8fad-444d-bfd5-747c831c739e",
   "metadata": {
    "tags": []
   },
   "outputs": [],
   "source": [
    "past_presidents=[\n",
    "['Edward Francis Baxter Orton Sr.', '1st president', 'Sept. 17, 1873 - June 21, 1881','male'],\n",
    "['Walter Quincy Scott','2nd president','June 21, 1881 - June 20, 1883','male'],\n",
    "['William Henry Scott','3rd president','June 20, 1883-June 30, 1895','male'],\n",
    "['James Hulme Canfield','4th president','July 1, 1895 - June 30, 1899','male'],\n",
    "['William Oxley Thompson','5th president','July 1, 1899 - Nov. 5, 1925','male'],\n",
    "['George Washington Rightmire (Acting)','Acting president','Nov. 6 1925 - March 1926','male'],\n",
    "['George Washington Rightmire','6th president','March 1926 - July 1, 1938','male'],\n",
    "['William McPherson (Acting)','Acting president','July 1, 1938 - Jan. 31, 1940','male'],\n",
    "['Howard Landis Bevis','7th president','Feb. 1, 1940 - June 30, 1956','male'],\n",
    "['Novice Gail Fawcett','8th president','Aug. 1, 1956 - Aug. 31, 1972','male'],\n",
    "['Harold Leroy Enarson','9th president','Sept. 1, 1972 - Aug. 31, 1981','male'],\n",
    "['Edward Harrington Jennings','10th president','Sept. 1, 1981 - Aug. 31, 1990','male'],\n",
    "['E. Gordon Gee','11th president','Sept. 1, 1990 - Jan. 2, 1998','male'],\n",
    "['John Richard Sisson (Interim)','Interim president','Dec. 15, 1997 - June 30, 1998','male'],\n",
    "['William English Kirwan','12th president','July 1, 1998 - June 30, 2002','male'],\n",
    "['Edward Harrington Jennings (Interim)','Interim president','July 1, 2002 - Sept. 30, 2002','male'],\n",
    "['Karen Ann Holbrook','13th president','Oct. 1, 2002 - June 30, 2007','female'],\n",
    "['Joseph A. Alutto (Interim)','Interim president','July 1, 2007 - Sept. 30, 2007','male'],\n",
    "['E. Gordon Gee','14th president','Oct. 1, 2007 - June 30, 2013','male'],\n",
    "['Joseph A. Alutto (Interim)','Interim president','July 1, 2013 - June 29, 2014','male'],\n",
    "['Michael V. Drake','15th president','June 30, 2014 - June 30, 2020','male'],\n",
    "['Kristina M. Johnson','16th president','Sept 1, 2020 - May 7, 2023','female'],\n",
    "['Peter J. Mohler (Acting)','Acting president','Aug. 22, 2023 - Dec. 31, 2023','male']\n",
    "]\n",
    "\n",
    "# Enter your code here\n",
    "\n"
   ]
  },
  {
   "cell_type": "markdown",
   "id": "9be6aa42-aa23-4314-88a6-b2c1b61c2e1d",
   "metadata": {
    "jp-MarkdownHeadingCollapsed": true,
    "tags": [],
    "user_expressions": []
   },
   "source": [
    "## Answer"
   ]
  },
  {
   "cell_type": "code",
   "execution_count": null,
   "id": "a8c6ab26-6097-40c9-9a4e-2d4d7081ea6d",
   "metadata": {
    "tags": []
   },
   "outputs": [],
   "source": [
    "count_female_presidents=0\n",
    "for each_list in past_presidents:\n",
    "    gender=each_list[-1]\n",
    "    if gender == \"female\":\n",
    "        count_female_presidents += 1\n",
    "print(f\" {count_female_presidents} female president(s) of The Ohio State University\")"
   ]
  },
  {
   "cell_type": "markdown",
   "id": "52ce5fc2-341f-4c49-9369-3fcb3a6412ae",
   "metadata": {
    "tags": [],
    "user_expressions": []
   },
   "source": [
    "## Exercise 5  \n",
    "\n",
    "Using the nobel_pulitzer_winners dictionary in the cell below, how many Ohio State faculty/alumni have won the Nobel or Pulitzer Prize? "
   ]
  },
  {
   "cell_type": "code",
   "execution_count": 22,
   "id": "28b2bdd3-47c7-4495-a473-f3f3ba11caf0",
   "metadata": {
    "tags": []
   },
   "outputs": [],
   "source": [
    "nobel_pulitzer_dictionary={\"Paul Flory\":\n",
    "                        {\"prize\":\"Nobel\",              \n",
    "                         \"category\":\"Chemistry\",\n",
    "                         \"year\":1974,\n",
    "                         \"alumni\":\"yes\",\n",
    "                         \"faculty\":\"no\"},\n",
    "                        \"William A. Fowler\":\n",
    "                        {\"prize\":\"Nobel\",\n",
    "                        \"category\":\"Physics\",\n",
    "                         \"year\":1983,\n",
    "                         \"alumni\":\"yes\",\n",
    "                         \"faculty\":\"no\"},\n",
    "                        \"Kenneth G. Wilson\":\n",
    "                        {\"prize\":\"Nobel\",\n",
    "                        \"category\":\"Physics\",\n",
    "                         \"year\":1982,\n",
    "                         \"alumni\":\"no\",\n",
    "                         \"faculty\":\"yes\"},\n",
    "                        \"Pierre Agostini\":\n",
    "                        {\"prize\":\"Nobel\",\n",
    "                         \"category\":\"Physics\",\n",
    "                         \"year\":2003,\n",
    "                         \"alumni\":\"no\",\n",
    "                         \"faculty\":\"yes\"},\n",
    "                        \"Nick Anderson\":\n",
    "                        {\"prize\":\"Pulitzer\",\n",
    "                         \"category\":\"Editorial Cartooning\",\n",
    "                         \"year\":2005,\n",
    "                         \"alumni\":\"yes\",\n",
    "                         \"faculty\":\"no\"},\n",
    "                        \"Walt Bogdanich\":\n",
    "                        {\"prize\":\"Pulitzer\",\n",
    "                         \"category\":\"Specialized Reporting\",\n",
    "                         \"year\":1988,\n",
    "                         \"alumni\":\"yes\",\n",
    "                         \"faculty\":\"no\"},\n",
    "                        \"Walt Bogdanich\":\n",
    "                        {\"prize\":\"Pulitzer\",\n",
    "                         \"category\":\"National Reporting\",\n",
    "                         \"year\":2005,\n",
    "                         \"alumni\":\"yes\",\n",
    "                         \"faculty\":\"no\"},\n",
    "                        \"Walt Bogdanich\":\n",
    "                        {\"prize\":\"Pulitzer\",\n",
    "                         \"category\":\"Investigative Reporting\",\n",
    "                         \"year\":2008,\n",
    "                         \"alumni\":\"yes\",\n",
    "                         \"faculty\":\"no\"},\n",
    "                        \"Paul H. Buck\":\n",
    "                        {\"prize\":\"Pulitzer\",\n",
    "                         \"category\":\"History\",\n",
    "                         \"year\":1938,\n",
    "                         \"alumni\":\"yes\",\n",
    "                         \"faculty\":\"no\"},\n",
    "                        \"Julia Keller\":\n",
    "                        {\"prize\":\"Pulitzer\",\n",
    "                         \"category\":\"Feature Writing\",\n",
    "                         \"year\":2005,\n",
    "                         \"alumni\":\"yes\",\n",
    "                         \"faculty\":\"no\"},\n",
    "                        \"Judith Miller\":\n",
    "                        {\"prize\":\"Pulitzer\",\n",
    "                         \"category\":\"Explanatory Reporting\",\n",
    "                         \"year\":2002,\n",
    "                         \"alumni\":\"no\",\n",
    "                         \"faculty\":\"yes\"},\n",
    "                        \"Stephen Ohlemacher\":\n",
    "                        {\"prize\":\"Pulitzer\",\n",
    "                         \"category\":\"Breaking News Reporting\",\n",
    "                         \"year\":1999,\n",
    "                         \"alumni\":\"yes\",\n",
    "                         \"faculty\":\"no\"},\n",
    "                        \"Mary Oliver\":\n",
    "                        {\"prize\":\"Pulitzer\",\n",
    "                         \"category\":\"Poetry\",\n",
    "                         \"year\":1984,\n",
    "                         \"alumni\":\"no\",\n",
    "                         \"faculty\":\"yes\"},\n",
    "                        \"Diana K. Sugg\":\n",
    "                        {\"prize\":\"Pulitzer\",\n",
    "                         \"category\":\"Beat Reporting\",\n",
    "                         \"year\":2003,\n",
    "                         \"alumni\":\"yes\",\n",
    "                         \"faculty\":\"no\"},\n",
    "                       }\n",
    "                       \n",
    "                                                        \n",
    "  #Enter your code here                              "
   ]
  },
  {
   "cell_type": "markdown",
   "id": "53798c6d-64da-48f7-a89e-ae53a4c07949",
   "metadata": {
    "jp-MarkdownHeadingCollapsed": true,
    "tags": [],
    "user_expressions": []
   },
   "source": [
    "## Answer"
   ]
  },
  {
   "cell_type": "code",
   "execution_count": null,
   "id": "8393f547-6fe5-409a-b134-03b041570e83",
   "metadata": {},
   "outputs": [],
   "source": [
    "count_nobel_prizes=0\n",
    "for key, value in nobel_pulitzer_dictionary.items():\n",
    "    if value['prize']==\"Nobel\":\n",
    "        count_nobel_prizes +=1\n",
    "\n",
    "print(count_nobel_prizes)\n",
    "    "
   ]
  }
 ],
 "metadata": {
  "kernelspec": {
   "display_name": "Python 3 (ipykernel)",
   "language": "python",
   "name": "python3"
  },
  "language_info": {
   "codemirror_mode": {
    "name": "ipython",
    "version": 3
   },
   "file_extension": ".py",
   "mimetype": "text/x-python",
   "name": "python",
   "nbconvert_exporter": "python",
   "pygments_lexer": "ipython3",
   "version": "3.9.15"
  }
 },
 "nbformat": 4,
 "nbformat_minor": 5
}
