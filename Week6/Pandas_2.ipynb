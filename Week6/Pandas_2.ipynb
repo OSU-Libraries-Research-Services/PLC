{
 "cells": [
  {
   "cell_type": "markdown",
   "id": "06336a8d-66f9-4fcc-9137-3a0288cbbc9e",
   "metadata": {
    "user_expressions": []
   },
   "source": [
    "# Pandas Review\n",
    "\n",
    "## Import a .csv file"
   ]
  },
  {
   "cell_type": "code",
   "execution_count": null,
   "id": "a1fef91d-201b-4ba2-a09f-e0e04ecdc41f",
   "metadata": {
    "tags": []
   },
   "outputs": [],
   "source": [
    "import pandas as pd\n",
    "publications_df = pd.read_csv('publications.csv', delimiter=',')\n",
    "\n",
    "publications_df"
   ]
  },
  {
   "cell_type": "markdown",
   "id": "411708e2-8340-4527-be28-64849f8d8495",
   "metadata": {
    "user_expressions": []
   },
   "source": [
    "## View data\n",
    "- .head()\n",
    "- .sample()\n",
    "- .info()\n",
    "- .shape()\n",
    "- .columns\n",
    "- .describe(include=\"all\")\n",
    "- NEW!! .dtypes"
   ]
  },
  {
   "cell_type": "code",
   "execution_count": null,
   "id": "f61842ae-4fd5-40ab-a89a-642395cb47c6",
   "metadata": {},
   "outputs": [],
   "source": [
    "publications_df"
   ]
  },
  {
   "cell_type": "markdown",
   "id": "61c8ed40-1895-40f6-9286-0d8b544db784",
   "metadata": {
    "user_expressions": []
   },
   "source": [
    "## Working with columns\n",
    "### Select column\n",
    "use one bracket for single column\\\n",
    "`name_df['column name']`\\\n",
    "use two brackets for multiple columns\\\n",
    "`name_df[['column name A', 'columns name B']]`\n"
   ]
  },
  {
   "cell_type": "code",
   "execution_count": null,
   "id": "5f090580-261b-4d5c-8d14-d4fd334d5baa",
   "metadata": {},
   "outputs": [],
   "source": [
    "publications_df['journal_title']"
   ]
  },
  {
   "cell_type": "code",
   "execution_count": null,
   "id": "37b04bf7-0aa6-4c4b-acd5-dc39e3942094",
   "metadata": {},
   "outputs": [],
   "source": [
    "publications_df[['journal_title','journal_abbr']]"
   ]
  },
  {
   "cell_type": "markdown",
   "id": "e729b70a-1c5b-45d4-877d-8567e0874337",
   "metadata": {
    "user_expressions": []
   },
   "source": [
    "### Rename columns\n",
    "`df_name.rename(columns={'old name':'new name'})`"
   ]
  },
  {
   "cell_type": "code",
   "execution_count": null,
   "id": "2a5ba552-d1ec-442b-9a6b-6fb629326b72",
   "metadata": {
    "tags": []
   },
   "outputs": [],
   "source": [
    "publications_df.rename(columns={'journal_title':'Journal_Title'})"
   ]
  },
  {
   "cell_type": "markdown",
   "id": "ca6d0474-8760-400d-98c2-f4a45fadce49",
   "metadata": {
    "user_expressions": []
   },
   "source": [
    "### Drop columns\n",
    "`df_name.drop(columns=\"column name to drop\")`\n",
    "\n",
    "To drop more than one column \n",
    "\n",
    "`df_name.drop(columns=[\"column1 to drop\",\"column2 to drop\"])`\n",
    "\n",
    "[pandas.DataFrame.drop](https://pandas.pydata.org/docs/reference/api/pandas.DataFrame.drop.html)"
   ]
  },
  {
   "cell_type": "code",
   "execution_count": null,
   "id": "0596ca9d-6f74-44b3-90a0-f9a9fe1bfced",
   "metadata": {
    "tags": []
   },
   "outputs": [],
   "source": [
    "one_dropped_column=publications_df.drop(columns=\"pub_year\")\n",
    "one_dropped_column"
   ]
  },
  {
   "cell_type": "code",
   "execution_count": null,
   "id": "9eb8514b-9e06-43a2-80ea-feb20822dc11",
   "metadata": {},
   "outputs": [],
   "source": [
    "two_dropped_columns=publications_df.drop(columns=['pub_year','authors'])\n",
    "two_dropped_columns"
   ]
  },
  {
   "cell_type": "markdown",
   "id": "6448740f-0a9f-4240-8661-e8f9f2f6e64c",
   "metadata": {
    "user_expressions": []
   },
   "source": [
    "### Add columns\n",
    "\n",
    "df_name['new column name']=new_column_value "
   ]
  },
  {
   "cell_type": "code",
   "execution_count": null,
   "id": "5027e0e9-70d7-4b19-a91a-668fed50e51e",
   "metadata": {},
   "outputs": [],
   "source": [
    "publications_df['new_column']='new column value'"
   ]
  },
  {
   "cell_type": "code",
   "execution_count": null,
   "id": "c3579019-0643-4d6a-9699-8f9a6e472db8",
   "metadata": {},
   "outputs": [],
   "source": [
    "publications_df.columns"
   ]
  },
  {
   "cell_type": "code",
   "execution_count": null,
   "id": "d7d6a27c-2a7e-41ed-badf-12063e0aa379",
   "metadata": {},
   "outputs": [],
   "source": [
    "publications_df[['new_column']]"
   ]
  },
  {
   "cell_type": "markdown",
   "id": "416c21dd-ed86-4622-92df-a7a36192833f",
   "metadata": {
    "user_expressions": []
   },
   "source": [
    "### Filter data\n",
    "\n",
    "Start by writing the conditional statement first\n",
    "\n",
    "`publications_df['JournalTitle'] == 'Nature communications'`\n",
    "\n",
    "Then use the original select column syntax name_df['column name'] and substitute your conditional statement for 'column name'\n",
    "\n",
    "`name_df[conditional statement]`"
   ]
  },
  {
   "cell_type": "code",
   "execution_count": null,
   "id": "afa59866-1c11-41b7-8ede-fbeb7d546ee4",
   "metadata": {},
   "outputs": [],
   "source": [
    "nature_communications_filter=publications_df['journal_title'] == 'Nature communications'\n",
    "\n",
    "publications_df[nature_communications_filter]"
   ]
  },
  {
   "cell_type": "markdown",
   "id": "28d1ec17-3e78-459a-91bb-ae383929a6ec",
   "metadata": {
    "user_expressions": []
   },
   "source": [
    "### -----NEW!!-----\n",
    "### Sort columns \n",
    "**Syntax:**\\\n",
    "`.sort_values(by='column name)` method. \n",
    "\n",
    "Pandas sorts in ascending order by default. To change the sort order add the parameter `ascending=False`.\n"
   ]
  },
  {
   "cell_type": "code",
   "execution_count": null,
   "id": "0fbad918-34ef-4e75-8765-aaeffafd114e",
   "metadata": {
    "tags": []
   },
   "outputs": [],
   "source": [
    "publications_df.sort_values(by='pub_year', ascending=False)"
   ]
  },
  {
   "cell_type": "markdown",
   "id": "ecac065f-c65c-4fb1-b34c-d49ecd49850c",
   "metadata": {
    "user_expressions": []
   },
   "source": [
    "### Addressing null values\n",
    "Missing values display as `NaN` in pandas DataFrames."
   ]
  },
  {
   "cell_type": "code",
   "execution_count": null,
   "id": "cf260bd8-30d1-4cc0-a45a-1725bb289201",
   "metadata": {
    "tags": []
   },
   "outputs": [],
   "source": [
    "publications_df.info()"
   ]
  },
  {
   "cell_type": "markdown",
   "id": "cf0f1d05-6f5c-4820-bbc0-66e8137ec7bf",
   "metadata": {
    "user_expressions": []
   },
   "source": [
    "#### .isna() | .notna()\n",
    "Use the `.isna()` and `.notna()` methods to find null values and then filter these values from your DataFrame."
   ]
  },
  {
   "cell_type": "code",
   "execution_count": null,
   "id": "f5d227e4-4c4e-49a8-ae66-9d00574a1595",
   "metadata": {
    "tags": []
   },
   "outputs": [],
   "source": [
    "publications_df[publications_df['link_to_articles_citing_from_pubmed'].isna()]"
   ]
  },
  {
   "cell_type": "markdown",
   "id": "3780956a-5070-41a4-89e8-bddf3d8af715",
   "metadata": {
    "user_expressions": []
   },
   "source": [
    "**`NaN` values blow up pandas python scripts!** \n",
    "\n",
    "**Why?**\n",
    "1. Math and `NaN` values cannot coexist. You must assign a zero, or remove the `NaN` value from your dataset.\n",
    "2. Text methods and `NaN` values will not work.  Pandas considers `NaN` values to be floats, not strings.\n",
    "\n",
    "#### .fillna()\n",
    "\n",
    "The `.fillna()` method can replace a `NaN` with a value of your choosing."
   ]
  },
  {
   "cell_type": "code",
   "execution_count": null,
   "id": "e494365d-4245-42e3-b8cd-bdc5f6e5d01d",
   "metadata": {},
   "outputs": [],
   "source": [
    "publications_df['link_to_articles_citing_from_pubmed']=publications_df['link_to_articles_citing_from_pubmed'].fillna(\"No link available\")\n"
   ]
  },
  {
   "cell_type": "code",
   "execution_count": null,
   "id": "3d8583a0-2881-4dc9-b31d-bedccb4ea548",
   "metadata": {
    "tags": []
   },
   "outputs": [],
   "source": [
    "publications_df[publications_df['link_to_articles_citing_from_pubmed'].isna()]"
   ]
  },
  {
   "cell_type": "markdown",
   "id": "95ea2071-bbb5-42b2-b224-2e1aaafbd901",
   "metadata": {
    "user_expressions": []
   },
   "source": [
    "### Duplicate Values\n",
    "\n",
    "Use the `.duplicated()` method to find duplicate rows.\n",
    "\n",
    "*Parameters*\n",
    "- `subset=None` replace None with a column label or sequence of labels to tell Pandas what column to consider when identifying duplicates. If you do not identify a column, Pandas will evaluate all columns.\n",
    "- `keep=False` shows all of the duplicated values in the dataset\n",
    "- `keep='first'` shows the first duplicated value\n",
    "- `keep='last'` shows the last duplicated value"
   ]
  },
  {
   "cell_type": "code",
   "execution_count": null,
   "id": "9fc185a7-ef83-4dcb-aca1-ee1d9e4242b7",
   "metadata": {
    "tags": []
   },
   "outputs": [],
   "source": [
    "publications_df.duplicated(keep=False)"
   ]
  },
  {
   "cell_type": "code",
   "execution_count": null,
   "id": "add65c2b-98de-4a81-afcd-b26af833a316",
   "metadata": {
    "tags": []
   },
   "outputs": [],
   "source": [
    "publications_df.duplicated(subset='journal_title', keep=False)"
   ]
  },
  {
   "cell_type": "markdown",
   "id": "593a28fe-2b8c-4def-8567-b9a867d73dd8",
   "metadata": {
    "user_expressions": []
   },
   "source": [
    "If a duplicate is present, we would see the value True in the cell output above. Use the `duplicated()` method with a filter to isolate exact duplicates in the rows."
   ]
  },
  {
   "cell_type": "code",
   "execution_count": null,
   "id": "1278dc16-a5d2-495c-8b8e-ef752b930de4",
   "metadata": {
    "tags": []
   },
   "outputs": [],
   "source": [
    "publications_df[publications_df.duplicated(subset='journal_title',keep=False)]"
   ]
  },
  {
   "cell_type": "markdown",
   "id": "a7e38337-d3ab-4bad-b3ad-0bd2626962ae",
   "metadata": {
    "user_expressions": []
   },
   "source": [
    "#### .drop_duplicates\n",
    "\n",
    "The `.drop_duplicates` method keeps the first instance of the duplicate. Use with the `subset` parameter to identify a specific column value to use to identify the duplicates.\n",
    "\n",
    "[pandas.DataFrame.drop_duplicates](https://pandas.pydata.org/docs/reference/api/pandas.DataFrame.drop_duplicates.html)\n"
   ]
  },
  {
   "cell_type": "code",
   "execution_count": null,
   "id": "8a36aa26-e93c-4ab4-88d6-4a20370376f6",
   "metadata": {
    "tags": []
   },
   "outputs": [],
   "source": [
    "publications_df.drop_duplicates(subset='journal_title)"
   ]
  },
  {
   "cell_type": "markdown",
   "id": "cc1c03f0-7ba3-4886-99c6-1ab09f781b7e",
   "metadata": {
    "user_expressions": []
   },
   "source": [
    "#### .dropna\n",
    "The `.dropna()` method removes `NaN` values.\n",
    "\n",
    "**Synatx:**\\\n",
    "`df.dropna(*, axis=0, how=<no_default>, thresh=<no_default>, subset=None, inplace=False, ignore_index=False)`\n",
    "\n",
    "[pandas.DataFrame.dropna](https://pandas.pydata.org/docs/reference/api/pandas.DataFrame.dropna.html#pandas.DataFrame.dropna)"
   ]
  },
  {
   "cell_type": "code",
   "execution_count": null,
   "id": "0e4308d3-1133-49aa-8697-5e79eaad7ae5",
   "metadata": {
    "tags": []
   },
   "outputs": [],
   "source": [
    "publications_df.dropna(subset='link_to_articles_citing_from_pubmed')"
   ]
  },
  {
   "cell_type": "markdown",
   "id": "93891955-b0d2-4a31-843e-3ea3b1954075",
   "metadata": {
    "user_expressions": []
   },
   "source": [
    "## Clean data\n",
    "\n",
    "### String methods\n",
    "\n",
    "| **Pandas String Method** | **Explanation**                                                                                   |\n",
    "|:-------------:|:---------------------------------------------------------------------------------------------------:|\n",
    "| df['column_name']`.str.lower()`         | makes the string in each row lowercase                                                                                |\n",
    "| df['column_name']`.str.upper()`         | makes the string in each row uppercase                                                |\n",
    "| df['column_name']`.str.title()`         | makes the string in each row titlecase                                                |\n",
    "| df['column_name']`.str.replace('old string', 'new string')`      | replaces `old string` with `new string` for each row |\n",
    "| df['column_name']`.str.contains('some string')`      | tests whether string in each row contains \"some string\" |\n",
    "| df['column_name']`.str.split('delim')`          | returns a list of substrings separated by the given delimiter |\n",
    "| df['column_name']`.str.join(list)`         | opposite of split(), joins the elements in the given list together using the string                                                                        |\n",
    "\n",
    "#### .upper()"
   ]
  },
  {
   "cell_type": "code",
   "execution_count": null,
   "id": "eed717eb-1c50-4141-af3b-1be145bf5d90",
   "metadata": {
    "user_expressions": []
   },
   "outputs": [],
   "source": [
    "publications_df['journal_title'].str.upper()"
   ]
  },
  {
   "cell_type": "markdown",
   "id": "0191a713-4220-4ea3-965f-1f892a06957c",
   "metadata": {
    "user_expressions": []
   },
   "source": [
    "#### .lower()"
   ]
  },
  {
   "cell_type": "code",
   "execution_count": null,
   "id": "1019fb72-c76b-4f96-981c-393caba061e9",
   "metadata": {
    "tags": []
   },
   "outputs": [],
   "source": [
    "publications_df['journal_title'].str.lower()"
   ]
  },
  {
   "cell_type": "markdown",
   "id": "e752973c-cebf-44d5-b5ed-4d0d1b206de9",
   "metadata": {
    "tags": [],
    "user_expressions": []
   },
   "source": [
    "#### .replace()\n",
    "\n",
    "**Syntax:**\\\n",
    "`.replace('old string', 'new string')`\n",
    "\n",
    "Let's remove the https:// from each value in the the **link_to_pubmed_abstract** field."
   ]
  },
  {
   "cell_type": "code",
   "execution_count": null,
   "id": "b5e7ace1-81ba-438c-883a-ca437d5e4625",
   "metadata": {
    "tags": []
   },
   "outputs": [],
   "source": [
    "publications_df['link_to_pubmed_abstract']=publications_df['link_to_pubmed_abstract'].str.replace('https://','')"
   ]
  },
  {
   "cell_type": "code",
   "execution_count": null,
   "id": "984e32d3-82fc-4ec4-b629-1fe5a3348596",
   "metadata": {
    "tags": []
   },
   "outputs": [],
   "source": [
    "publications_df.sample(5)"
   ]
  },
  {
   "cell_type": "markdown",
   "id": "df17f665-3b8d-4725-a19b-71201e266ae0",
   "metadata": {
    "user_expressions": []
   },
   "source": [
    "#### .contains()\n",
    "Isolate rows with columns that contain a specific word (another way to filter)."
   ]
  },
  {
   "cell_type": "code",
   "execution_count": null,
   "id": "eab4be83-8fab-4c48-ab21-0ea1c97b466c",
   "metadata": {
    "tags": []
   },
   "outputs": [],
   "source": [
    "publications_df[publications_df['journal_title'].str.contains('Nature')]"
   ]
  },
  {
   "cell_type": "code",
   "execution_count": null,
   "id": "0cd673e1-8cc2-4f34-9d61-9f9c38b0dfd8",
   "metadata": {
    "tags": []
   },
   "outputs": [],
   "source": [
    "publications_df[publications_df['journal_title'].str.contains('Nature microbiology')]"
   ]
  },
  {
   "cell_type": "markdown",
   "id": "b50cb450-9ece-4c26-a4a0-f524531e1a31",
   "metadata": {
    "user_expressions": []
   },
   "source": [
    "## Pandas Calculations\n",
    "\n",
    "### .describe()"
   ]
  },
  {
   "cell_type": "code",
   "execution_count": null,
   "id": "2bb68688-e115-48ae-a07b-f5d3c64eb712",
   "metadata": {
    "tags": []
   },
   "outputs": [],
   "source": [
    "publications_df.describe(include='all')"
   ]
  },
  {
   "cell_type": "markdown",
   "id": "c25a3cd8-188a-47c1-8ee2-6aca7055d013",
   "metadata": {
    "user_expressions": []
   },
   "source": [
    "\n",
    "\n",
    "\n",
    "| Pandas calculations | Explanation                         |\n",
    "|----------|-------------------------------------|\n",
    "| `.count()`    | Number of observations    |\n",
    "| `.sum()`      | Sum of values                       |\n",
    "| `.mean()`     | Mean of values                      |\n",
    "| `.median()`   | Median of values         |\n",
    "| `.min()`      | Minimum                             |\n",
    "| `.max()`      | Maximum                             |\n",
    "| `.mode()`     | Mode                                |\n",
    "| `.std()`      | Unbiased standard deviation         |"
   ]
  },
  {
   "cell_type": "markdown",
   "id": "34fb8b77-b121-4f32-8667-055b9048ce8b",
   "metadata": {
    "user_expressions": []
   },
   "source": [
    "### .value_counts()\n",
    "Used to count the number of unique values in a column."
   ]
  },
  {
   "cell_type": "code",
   "execution_count": null,
   "id": "ed0c0450-c3f3-45d1-adb2-93b7c0a31cc6",
   "metadata": {
    "tags": []
   },
   "outputs": [],
   "source": [
    "publications_df['journal_title'].value_counts()"
   ]
  },
  {
   "cell_type": "markdown",
   "id": "842caad7-cbe3-446c-82cc-a15b7d79c8c4",
   "metadata": {
    "user_expressions": []
   },
   "source": [
    "### groupby\n",
    "\n",
    "To group data by specific values and then use a Pandas calculation, use the  `.groupby()` method.\n",
    "\n",
    "**Syntax:**\\\n",
    "`DataFrame.groupby(by=None, axis=<no_default>, level=None, as_index=True, sort=True, group_keys=True, observed=<no_default>, dropna=True)[source]`\n",
    "\n",
    "[pandas.DataFrame.groupby](https://pandas.pydata.org/pandas-docs/stable/reference/api/pandas.DataFrame.groupby.html#pandas.DataFrame.groupby)"
   ]
  },
  {
   "cell_type": "code",
   "execution_count": null,
   "id": "b8e2d642-3c90-46a9-a910-bef83ec4e45e",
   "metadata": {
    "tags": []
   },
   "outputs": [],
   "source": [
    "publications_df.groupby('journal_title').count()"
   ]
  },
  {
   "cell_type": "code",
   "execution_count": null,
   "id": "ed837779-0f09-4440-bf69-7457d24b2064",
   "metadata": {
    "tags": []
   },
   "outputs": [],
   "source": [
    "publications_df.groupby('journal_title').count()['journal_abbr']"
   ]
  },
  {
   "cell_type": "code",
   "execution_count": null,
   "id": "6c16976b-5025-4f8d-a62c-4a72c6cbbbc1",
   "metadata": {},
   "outputs": [],
   "source": []
  }
 ],
 "metadata": {
  "kernelspec": {
   "display_name": "Python 3 (ipykernel)",
   "language": "python",
   "name": "python3"
  },
  "language_info": {
   "codemirror_mode": {
    "name": "ipython",
    "version": 3
   },
   "file_extension": ".py",
   "mimetype": "text/x-python",
   "name": "python",
   "nbconvert_exporter": "python",
   "pygments_lexer": "ipython3",
   "version": "3.9.15"
  }
 },
 "nbformat": 4,
 "nbformat_minor": 5
}
